{
 "cells": [
  {
   "cell_type": "code",
   "execution_count": 1,
   "id": "83086cd1-6200-4d65-9243-ca8efb67a4f3",
   "metadata": {
    "tags": []
   },
   "outputs": [],
   "source": [
    "import make_dataset_v06 as md"
   ]
  },
  {
   "cell_type": "markdown",
   "id": "6b8d606c-6d5c-4e14-bc87-4f4491eef78d",
   "metadata": {
    "jp-MarkdownHeadingCollapsed": true,
    "tags": []
   },
   "source": [
    "### Save CSI as npy"
   ]
  },
  {
   "cell_type": "code",
   "execution_count": 8,
   "id": "22aad588-a583-4d4b-91de-88fc42de87f3",
   "metadata": {
    "scrolled": true,
    "tags": []
   },
   "outputs": [
    {
     "name": "stdout",
     "output_type": "stream",
     "text": [
      "575bytes / 6759700bytes\n",
      "1packets\n",
      "676200bytes / 6759700bytes\n",
      "1176packets\n",
      "1352400bytes / 6759700bytes\n",
      "2352packets\n",
      "2028025bytes / 6759700bytes\n",
      "3527packets\n",
      "2704225bytes / 6759700bytes\n",
      "4703packets\n",
      "3379850bytes / 6759700bytes\n",
      "5878packets\n",
      "4056050bytes / 6759700bytes\n",
      "7054packets\n",
      "4732250bytes / 6759700bytes\n",
      "8230packets\n",
      "5407875bytes / 6759700bytes\n",
      "9405packets\n",
      "6084075bytes / 6759700bytes\n",
      "10581packets\n",
      "6759700bytes / 6759700bytes\n",
      "11756packets\n"
     ]
    },
    {
     "name": "stderr",
     "output_type": "stream",
     "text": [
      "[Parallel(n_jobs=-1)]: Using backend LokyBackend with 32 concurrent workers.\n",
      "[Parallel(n_jobs=-1)]: Done   8 tasks      | elapsed:    2.5s\n",
      "[Parallel(n_jobs=-1)]: Done  21 tasks      | elapsed:    2.8s\n",
      "[Parallel(n_jobs=-1)]: Done  34 tasks      | elapsed:    4.3s\n",
      "[Parallel(n_jobs=-1)]: Done  49 tasks      | elapsed:    4.7s\n",
      "[Parallel(n_jobs=-1)]: Done  67 out of 118 | elapsed:    6.3s remaining:    4.8s\n",
      "[Parallel(n_jobs=-1)]: Done  79 out of 118 | elapsed:    6.7s remaining:    3.3s\n",
      "[Parallel(n_jobs=-1)]: Done  91 out of 118 | elapsed:    7.1s remaining:    2.1s\n",
      "[Parallel(n_jobs=-1)]: Done 103 out of 118 | elapsed:    8.0s remaining:    1.2s\n",
      "[Parallel(n_jobs=-1)]: Done 115 out of 118 | elapsed:    8.3s remaining:    0.2s\n",
      "[Parallel(n_jobs=-1)]: Done 118 out of 118 | elapsed:    8.5s finished\n",
      "/home/bob/datastore/CSI-python/csi_parser.py:238: VisibleDeprecationWarning: Creating an ndarray from ragged nested sequences (which is a list-or-tuple of lists-or-tuples-or ndarrays with different lengths or shapes) is deprecated. If you meant to do this, you must specify 'dtype=object' when creating the ndarray.\n",
      "  np.array([np.array(r, dtype=object) for r in ret])).T\n"
     ]
    },
    {
     "name": "stdout",
     "output_type": "stream",
     "text": [
      "loaded csi\n",
      "csi load time: 9.279953[s]\n",
      "11756packets\n",
      "loading from time.txt\n",
      "loaded timestamp\n",
      "sampling rate: 999.5984804100483\n"
     ]
    },
    {
     "name": "stderr",
     "output_type": "stream",
     "text": [
      "/opt/conda/lib/python3.7/site-packages/numpy/lib/npyio.py:528: VisibleDeprecationWarning: Creating an ndarray from ragged nested sequences (which is a list-or-tuple of lists-or-tuples-or ndarrays with different lengths or shapes) is deprecated. If you meant to do this, you must specify 'dtype=object' when creating the ndarray.\n",
      "  arr = np.asanyarray(arr)\n"
     ]
    },
    {
     "name": "stdout",
     "output_type": "stream",
     "text": [
      "575bytes / 6204250bytes\n",
      "1packets\n",
      "620425bytes / 6204250bytes\n",
      "1079packets\n",
      "1240850bytes / 6204250bytes\n",
      "2158packets\n",
      "1861275bytes / 6204250bytes\n",
      "3237packets\n",
      "2481700bytes / 6204250bytes\n",
      "4316packets\n",
      "3102125bytes / 6204250bytes\n",
      "5395packets\n",
      "3722550bytes / 6204250bytes\n",
      "6474packets\n",
      "4342975bytes / 6204250bytes\n",
      "7553packets\n",
      "4963400bytes / 6204250bytes\n",
      "8632packets\n",
      "5583825bytes / 6204250bytes\n",
      "9711packets\n",
      "6204250bytes / 6204250bytes\n",
      "10790packets\n"
     ]
    },
    {
     "name": "stderr",
     "output_type": "stream",
     "text": [
      "[Parallel(n_jobs=-1)]: Using backend LokyBackend with 32 concurrent workers.\n",
      "[Parallel(n_jobs=-1)]: Done   8 tasks      | elapsed:    1.9s\n",
      "[Parallel(n_jobs=-1)]: Done  21 tasks      | elapsed:    2.2s\n",
      "[Parallel(n_jobs=-1)]: Done  34 tasks      | elapsed:    3.4s\n",
      "[Parallel(n_jobs=-1)]: Done  56 out of 108 | elapsed:    4.5s remaining:    4.2s\n",
      "[Parallel(n_jobs=-1)]: Done  67 out of 108 | elapsed:    5.7s remaining:    3.5s\n",
      "[Parallel(n_jobs=-1)]: Done  78 out of 108 | elapsed:    6.1s remaining:    2.4s\n",
      "[Parallel(n_jobs=-1)]: Done  89 out of 108 | elapsed:    6.7s remaining:    1.4s\n",
      "[Parallel(n_jobs=-1)]: Done 100 out of 108 | elapsed:    7.0s remaining:    0.6s\n",
      "[Parallel(n_jobs=-1)]: Done 108 out of 108 | elapsed:    7.3s finished\n"
     ]
    },
    {
     "name": "stdout",
     "output_type": "stream",
     "text": [
      "loaded csi\n",
      "csi load time: 7.957432[s]\n",
      "10790packets\n",
      "loading from time.txt\n",
      "loaded timestamp\n",
      "sampling rate: 997.4496124360752\n",
      "575bytes / 6314075bytes\n",
      "1packets\n",
      "631925bytes / 6314075bytes\n",
      "1099packets\n",
      "1263275bytes / 6314075bytes\n",
      "2197packets\n",
      "1894625bytes / 6314075bytes\n",
      "3295packets\n",
      "2525975bytes / 6314075bytes\n",
      "4393packets\n",
      "3157325bytes / 6314075bytes\n",
      "5491packets\n",
      "3788675bytes / 6314075bytes\n",
      "6589packets\n",
      "4420025bytes / 6314075bytes\n",
      "7687packets\n",
      "5051375bytes / 6314075bytes\n",
      "8785packets\n",
      "5682725bytes / 6314075bytes\n",
      "9883packets\n",
      "6314075bytes / 6314075bytes\n",
      "10981packets\n"
     ]
    },
    {
     "name": "stderr",
     "output_type": "stream",
     "text": [
      "[Parallel(n_jobs=-1)]: Using backend LokyBackend with 32 concurrent workers.\n",
      "[Parallel(n_jobs=-1)]: Done   8 tasks      | elapsed:    2.1s\n",
      "[Parallel(n_jobs=-1)]: Done  21 tasks      | elapsed:    2.2s\n",
      "[Parallel(n_jobs=-1)]: Done  34 tasks      | elapsed:    3.7s\n",
      "[Parallel(n_jobs=-1)]: Done  59 out of 110 | elapsed:    4.5s remaining:    3.9s\n",
      "[Parallel(n_jobs=-1)]: Done  71 out of 110 | elapsed:    5.9s remaining:    3.2s\n",
      "[Parallel(n_jobs=-1)]: Done  83 out of 110 | elapsed:    6.3s remaining:    2.0s\n",
      "[Parallel(n_jobs=-1)]: Done  95 out of 110 | elapsed:    6.8s remaining:    1.1s\n",
      "[Parallel(n_jobs=-1)]: Done 107 out of 110 | elapsed:    7.2s remaining:    0.2s\n",
      "[Parallel(n_jobs=-1)]: Done 110 out of 110 | elapsed:    7.4s finished\n"
     ]
    },
    {
     "name": "stdout",
     "output_type": "stream",
     "text": [
      "loaded csi\n",
      "csi load time: 8.095072[s]\n",
      "10981packets\n",
      "loading from time.txt\n",
      "loaded timestamp\n",
      "sampling rate: 999.5651523235031\n",
      "575bytes / 6295100bytes\n",
      "1packets\n",
      "629625bytes / 6295100bytes\n",
      "1095packets\n",
      "1259250bytes / 6295100bytes\n",
      "2190packets\n",
      "1888875bytes / 6295100bytes\n",
      "3285packets\n",
      "2518500bytes / 6295100bytes\n",
      "4380packets\n",
      "3147550bytes / 6295100bytes\n",
      "5474packets\n",
      "3777175bytes / 6295100bytes\n",
      "6569packets\n",
      "4406800bytes / 6295100bytes\n",
      "7664packets\n",
      "5036425bytes / 6295100bytes\n",
      "8759packets\n",
      "5666050bytes / 6295100bytes\n",
      "9854packets\n",
      "6295100bytes / 6295100bytes\n",
      "10948packets\n"
     ]
    },
    {
     "name": "stderr",
     "output_type": "stream",
     "text": [
      "[Parallel(n_jobs=-1)]: Using backend LokyBackend with 32 concurrent workers.\n",
      "[Parallel(n_jobs=-1)]: Done   8 tasks      | elapsed:    1.9s\n",
      "[Parallel(n_jobs=-1)]: Done  21 tasks      | elapsed:    2.1s\n",
      "[Parallel(n_jobs=-1)]: Done  34 tasks      | elapsed:    3.7s\n",
      "[Parallel(n_jobs=-1)]: Done  59 out of 110 | elapsed:    4.4s remaining:    3.8s\n",
      "[Parallel(n_jobs=-1)]: Done  71 out of 110 | elapsed:    5.8s remaining:    3.2s\n",
      "[Parallel(n_jobs=-1)]: Done  83 out of 110 | elapsed:    6.2s remaining:    2.0s\n",
      "[Parallel(n_jobs=-1)]: Done  95 out of 110 | elapsed:    6.5s remaining:    1.0s\n",
      "[Parallel(n_jobs=-1)]: Done 107 out of 110 | elapsed:    7.3s remaining:    0.2s\n",
      "[Parallel(n_jobs=-1)]: Done 110 out of 110 | elapsed:    7.4s finished\n"
     ]
    },
    {
     "name": "stdout",
     "output_type": "stream",
     "text": [
      "loaded csi\n",
      "csi load time: 8.12664[s]\n",
      "10948packets\n",
      "loading from time.txt\n",
      "loaded timestamp\n",
      "sampling rate: 999.464024021488\n",
      "575bytes / 25795075bytes\n",
      "1packets\n",
      "2580025bytes / 25795075bytes\n",
      "4487packets\n",
      "5159475bytes / 25795075bytes\n",
      "8973packets\n",
      "7738925bytes / 25795075bytes\n",
      "13459packets\n",
      "10318375bytes / 25795075bytes\n",
      "17945packets\n",
      "12897825bytes / 25795075bytes\n",
      "22431packets\n",
      "15477275bytes / 25795075bytes\n",
      "26917packets\n",
      "18056725bytes / 25795075bytes\n",
      "31403packets\n",
      "20636175bytes / 25795075bytes\n",
      "35889packets\n",
      "23215625bytes / 25795075bytes\n",
      "40375packets\n",
      "25795075bytes / 25795075bytes\n",
      "44861packets\n"
     ]
    },
    {
     "name": "stderr",
     "output_type": "stream",
     "text": [
      "[Parallel(n_jobs=-1)]: Using backend LokyBackend with 32 concurrent workers.\n",
      "[Parallel(n_jobs=-1)]: Done   8 tasks      | elapsed:    2.0s\n",
      "[Parallel(n_jobs=-1)]: Done  21 tasks      | elapsed:    2.1s\n",
      "[Parallel(n_jobs=-1)]: Done  34 tasks      | elapsed:    3.6s\n",
      "[Parallel(n_jobs=-1)]: Done  49 tasks      | elapsed:    4.1s\n",
      "[Parallel(n_jobs=-1)]: Done  64 tasks      | elapsed:    5.2s\n",
      "[Parallel(n_jobs=-1)]: Done  81 tasks      | elapsed:    6.1s\n",
      "[Parallel(n_jobs=-1)]: Done  98 tasks      | elapsed:    7.3s\n",
      "[Parallel(n_jobs=-1)]: Done 117 tasks      | elapsed:    8.8s\n",
      "[Parallel(n_jobs=-1)]: Done 136 tasks      | elapsed:    9.4s\n",
      "[Parallel(n_jobs=-1)]: Done 157 tasks      | elapsed:   11.1s\n",
      "[Parallel(n_jobs=-1)]: Done 178 tasks      | elapsed:   12.7s\n",
      "[Parallel(n_jobs=-1)]: Done 201 tasks      | elapsed:   13.5s\n",
      "[Parallel(n_jobs=-1)]: Done 224 tasks      | elapsed:   15.1s\n",
      "[Parallel(n_jobs=-1)]: Done 249 tasks      | elapsed:   16.9s\n",
      "[Parallel(n_jobs=-1)]: Done 274 tasks      | elapsed:   18.4s\n",
      "[Parallel(n_jobs=-1)]: Done 301 tasks      | elapsed:   20.1s\n",
      "[Parallel(n_jobs=-1)]: Done 328 tasks      | elapsed:   21.8s\n",
      "[Parallel(n_jobs=-1)]: Done 357 tasks      | elapsed:   23.9s\n",
      "[Parallel(n_jobs=-1)]: Done 386 tasks      | elapsed:   25.6s\n",
      "[Parallel(n_jobs=-1)]: Done 431 out of 449 | elapsed:   28.6s remaining:    1.2s\n",
      "[Parallel(n_jobs=-1)]: Done 449 out of 449 | elapsed:   29.0s finished\n"
     ]
    },
    {
     "name": "stdout",
     "output_type": "stream",
     "text": [
      "loaded csi\n",
      "csi load time: 31.95077[s]\n",
      "44861packets\n",
      "loading from time.txt\n",
      "loaded timestamp\n",
      "sampling rate: 997.1358400364106\n",
      "575bytes / 62021225bytes\n",
      "1packets\n",
      "6202525bytes / 62021225bytes\n",
      "10787packets\n",
      "12404475bytes / 62021225bytes\n",
      "21573packets\n",
      "18606425bytes / 62021225bytes\n",
      "32359packets\n",
      "24808950bytes / 62021225bytes\n",
      "43146packets\n",
      "31010900bytes / 62021225bytes\n",
      "53932packets\n",
      "37212850bytes / 62021225bytes\n",
      "64718packets\n",
      "43415375bytes / 62021225bytes\n",
      "75505packets\n",
      "49617325bytes / 62021225bytes\n",
      "86291packets\n",
      "55819275bytes / 62021225bytes\n",
      "97077packets\n",
      "62021225bytes / 62021225bytes\n",
      "107863packets\n"
     ]
    },
    {
     "name": "stderr",
     "output_type": "stream",
     "text": [
      "[Parallel(n_jobs=-1)]: Using backend LokyBackend with 32 concurrent workers.\n",
      "[Parallel(n_jobs=-1)]: Done   8 tasks      | elapsed:    1.9s\n",
      "[Parallel(n_jobs=-1)]: Done  21 tasks      | elapsed:    2.1s\n",
      "[Parallel(n_jobs=-1)]: Done  34 tasks      | elapsed:    3.6s\n",
      "[Parallel(n_jobs=-1)]: Done  49 tasks      | elapsed:    4.1s\n",
      "[Parallel(n_jobs=-1)]: Done  64 tasks      | elapsed:    4.9s\n",
      "[Parallel(n_jobs=-1)]: Done  81 tasks      | elapsed:    6.1s\n",
      "[Parallel(n_jobs=-1)]: Done  98 tasks      | elapsed:    7.2s\n",
      "[Parallel(n_jobs=-1)]: Done 117 tasks      | elapsed:    8.5s\n",
      "[Parallel(n_jobs=-1)]: Done 136 tasks      | elapsed:    9.6s\n",
      "[Parallel(n_jobs=-1)]: Done 157 tasks      | elapsed:   11.0s\n",
      "[Parallel(n_jobs=-1)]: Done 178 tasks      | elapsed:   12.4s\n",
      "[Parallel(n_jobs=-1)]: Done 201 tasks      | elapsed:   13.6s\n",
      "[Parallel(n_jobs=-1)]: Done 224 tasks      | elapsed:   15.1s\n",
      "[Parallel(n_jobs=-1)]: Done 249 tasks      | elapsed:   17.0s\n",
      "[Parallel(n_jobs=-1)]: Done 274 tasks      | elapsed:   18.3s\n",
      "[Parallel(n_jobs=-1)]: Done 301 tasks      | elapsed:   20.1s\n",
      "[Parallel(n_jobs=-1)]: Done 328 tasks      | elapsed:   21.8s\n",
      "[Parallel(n_jobs=-1)]: Done 357 tasks      | elapsed:   23.5s\n",
      "[Parallel(n_jobs=-1)]: Done 386 tasks      | elapsed:   25.5s\n",
      "[Parallel(n_jobs=-1)]: Done 417 tasks      | elapsed:   27.5s\n",
      "[Parallel(n_jobs=-1)]: Done 448 tasks      | elapsed:   29.6s\n",
      "[Parallel(n_jobs=-1)]: Done 481 tasks      | elapsed:   31.8s\n",
      "[Parallel(n_jobs=-1)]: Done 514 tasks      | elapsed:   33.8s\n",
      "[Parallel(n_jobs=-1)]: Done 549 tasks      | elapsed:   36.0s\n",
      "[Parallel(n_jobs=-1)]: Done 584 tasks      | elapsed:   38.1s\n",
      "[Parallel(n_jobs=-1)]: Done 621 tasks      | elapsed:   40.5s\n",
      "[Parallel(n_jobs=-1)]: Done 658 tasks      | elapsed:   43.1s\n",
      "[Parallel(n_jobs=-1)]: Done 697 tasks      | elapsed:   45.6s\n",
      "[Parallel(n_jobs=-1)]: Done 736 tasks      | elapsed:   48.0s\n",
      "[Parallel(n_jobs=-1)]: Done 777 tasks      | elapsed:   50.7s\n",
      "[Parallel(n_jobs=-1)]: Done 818 tasks      | elapsed:   53.3s\n",
      "[Parallel(n_jobs=-1)]: Done 861 tasks      | elapsed:   55.9s\n",
      "[Parallel(n_jobs=-1)]: Done 904 tasks      | elapsed:   58.8s\n",
      "[Parallel(n_jobs=-1)]: Done 949 tasks      | elapsed:  1.0min\n",
      "[Parallel(n_jobs=-1)]: Done 994 tasks      | elapsed:  1.1min\n",
      "[Parallel(n_jobs=-1)]: Done 1079 out of 1079 | elapsed:  1.2min finished\n"
     ]
    },
    {
     "name": "stdout",
     "output_type": "stream",
     "text": [
      "loaded csi\n",
      "csi load time: 76.231151[s]\n",
      "107863packets\n",
      "loading from time.txt\n",
      "loaded timestamp\n",
      "sampling rate: 995.9756630606734\n",
      "575bytes / 59771250bytes\n",
      "1packets\n",
      "5977125bytes / 59771250bytes\n",
      "10395packets\n",
      "11954250bytes / 59771250bytes\n",
      "20790packets\n",
      "17931375bytes / 59771250bytes\n",
      "31185packets\n",
      "23908500bytes / 59771250bytes\n",
      "41580packets\n",
      "29885625bytes / 59771250bytes\n",
      "51975packets\n",
      "35862750bytes / 59771250bytes\n",
      "62370packets\n",
      "41839875bytes / 59771250bytes\n",
      "72765packets\n",
      "47817000bytes / 59771250bytes\n",
      "83160packets\n",
      "53794125bytes / 59771250bytes\n",
      "93555packets\n",
      "59771250bytes / 59771250bytes\n",
      "103950packets\n"
     ]
    },
    {
     "name": "stderr",
     "output_type": "stream",
     "text": [
      "[Parallel(n_jobs=-1)]: Using backend LokyBackend with 32 concurrent workers.\n",
      "[Parallel(n_jobs=-1)]: Done   8 tasks      | elapsed:    2.0s\n",
      "[Parallel(n_jobs=-1)]: Done  21 tasks      | elapsed:    2.2s\n",
      "[Parallel(n_jobs=-1)]: Done  34 tasks      | elapsed:    3.7s\n",
      "[Parallel(n_jobs=-1)]: Done  49 tasks      | elapsed:    4.2s\n",
      "[Parallel(n_jobs=-1)]: Done  64 tasks      | elapsed:    5.1s\n",
      "[Parallel(n_jobs=-1)]: Done  81 tasks      | elapsed:    6.4s\n",
      "[Parallel(n_jobs=-1)]: Done  98 tasks      | elapsed:    7.4s\n",
      "[Parallel(n_jobs=-1)]: Done 117 tasks      | elapsed:    8.7s\n",
      "[Parallel(n_jobs=-1)]: Done 136 tasks      | elapsed:    9.6s\n",
      "[Parallel(n_jobs=-1)]: Done 157 tasks      | elapsed:   11.2s\n",
      "[Parallel(n_jobs=-1)]: Done 178 tasks      | elapsed:   12.7s\n",
      "[Parallel(n_jobs=-1)]: Done 201 tasks      | elapsed:   13.8s\n",
      "[Parallel(n_jobs=-1)]: Done 224 tasks      | elapsed:   15.3s\n",
      "[Parallel(n_jobs=-1)]: Done 249 tasks      | elapsed:   17.1s\n",
      "[Parallel(n_jobs=-1)]: Done 274 tasks      | elapsed:   18.7s\n",
      "[Parallel(n_jobs=-1)]: Done 301 tasks      | elapsed:   20.5s\n",
      "[Parallel(n_jobs=-1)]: Done 328 tasks      | elapsed:   22.1s\n",
      "[Parallel(n_jobs=-1)]: Done 357 tasks      | elapsed:   24.0s\n",
      "[Parallel(n_jobs=-1)]: Done 386 tasks      | elapsed:   25.7s\n",
      "[Parallel(n_jobs=-1)]: Done 417 tasks      | elapsed:   27.7s\n",
      "[Parallel(n_jobs=-1)]: Done 448 tasks      | elapsed:   29.8s\n",
      "[Parallel(n_jobs=-1)]: Done 481 tasks      | elapsed:   31.9s\n",
      "[Parallel(n_jobs=-1)]: Done 514 tasks      | elapsed:   34.1s\n",
      "[Parallel(n_jobs=-1)]: Done 549 tasks      | elapsed:   36.2s\n",
      "[Parallel(n_jobs=-1)]: Done 584 tasks      | elapsed:   38.5s\n",
      "[Parallel(n_jobs=-1)]: Done 621 tasks      | elapsed:   41.0s\n",
      "[Parallel(n_jobs=-1)]: Done 658 tasks      | elapsed:   43.3s\n",
      "[Parallel(n_jobs=-1)]: Done 697 tasks      | elapsed:   45.8s\n",
      "[Parallel(n_jobs=-1)]: Done 736 tasks      | elapsed:   48.5s\n",
      "[Parallel(n_jobs=-1)]: Done 777 tasks      | elapsed:   51.0s\n",
      "[Parallel(n_jobs=-1)]: Done 818 tasks      | elapsed:   53.3s\n",
      "[Parallel(n_jobs=-1)]: Done 861 tasks      | elapsed:   56.2s\n",
      "[Parallel(n_jobs=-1)]: Done 904 tasks      | elapsed:   59.1s\n",
      "[Parallel(n_jobs=-1)]: Done 949 tasks      | elapsed:  1.0min\n",
      "[Parallel(n_jobs=-1)]: Done 1040 out of 1040 | elapsed:  1.1min finished\n"
     ]
    },
    {
     "name": "stdout",
     "output_type": "stream",
     "text": [
      "loaded csi\n",
      "csi load time: 73.882773[s]\n",
      "103950packets\n",
      "loading from time.txt\n",
      "loaded timestamp\n",
      "sampling rate: 998.2633495229379\n",
      "575bytes / 26947375bytes\n",
      "1packets\n",
      "2695025bytes / 26947375bytes\n",
      "4687packets\n",
      "5389475bytes / 26947375bytes\n",
      "9373packets\n",
      "8084500bytes / 26947375bytes\n",
      "14060packets\n",
      "10778950bytes / 26947375bytes\n",
      "18746packets\n",
      "13473975bytes / 26947375bytes\n",
      "23433packets\n",
      "16168425bytes / 26947375bytes\n",
      "28119packets\n",
      "18863450bytes / 26947375bytes\n",
      "32806packets\n",
      "21557900bytes / 26947375bytes\n",
      "37492packets\n",
      "24252925bytes / 26947375bytes\n",
      "42179packets\n",
      "26947375bytes / 26947375bytes\n",
      "46865packets\n"
     ]
    },
    {
     "name": "stderr",
     "output_type": "stream",
     "text": [
      "[Parallel(n_jobs=-1)]: Using backend LokyBackend with 32 concurrent workers.\n",
      "[Parallel(n_jobs=-1)]: Done   8 tasks      | elapsed:    2.0s\n",
      "[Parallel(n_jobs=-1)]: Done  21 tasks      | elapsed:    2.2s\n",
      "[Parallel(n_jobs=-1)]: Done  34 tasks      | elapsed:    3.7s\n",
      "[Parallel(n_jobs=-1)]: Done  49 tasks      | elapsed:    4.1s\n",
      "[Parallel(n_jobs=-1)]: Done  64 tasks      | elapsed:    5.0s\n",
      "[Parallel(n_jobs=-1)]: Done  81 tasks      | elapsed:    6.1s\n",
      "[Parallel(n_jobs=-1)]: Done  98 tasks      | elapsed:    7.4s\n",
      "[Parallel(n_jobs=-1)]: Done 117 tasks      | elapsed:    8.5s\n",
      "[Parallel(n_jobs=-1)]: Done 136 tasks      | elapsed:    9.8s\n",
      "[Parallel(n_jobs=-1)]: Done 157 tasks      | elapsed:   11.2s\n",
      "[Parallel(n_jobs=-1)]: Done 178 tasks      | elapsed:   12.6s\n",
      "[Parallel(n_jobs=-1)]: Done 201 tasks      | elapsed:   13.6s\n",
      "[Parallel(n_jobs=-1)]: Done 224 tasks      | elapsed:   15.3s\n",
      "[Parallel(n_jobs=-1)]: Done 249 tasks      | elapsed:   17.3s\n",
      "[Parallel(n_jobs=-1)]: Done 274 tasks      | elapsed:   18.7s\n",
      "[Parallel(n_jobs=-1)]: Done 301 tasks      | elapsed:   20.3s\n",
      "[Parallel(n_jobs=-1)]: Done 328 tasks      | elapsed:   21.9s\n",
      "[Parallel(n_jobs=-1)]: Done 357 tasks      | elapsed:   23.7s\n",
      "[Parallel(n_jobs=-1)]: Done 386 tasks      | elapsed:   25.7s\n",
      "[Parallel(n_jobs=-1)]: Done 453 out of 469 | elapsed:   29.8s remaining:    1.1s\n",
      "[Parallel(n_jobs=-1)]: Done 469 out of 469 | elapsed:   30.3s finished\n"
     ]
    },
    {
     "name": "stdout",
     "output_type": "stream",
     "text": [
      "loaded csi\n",
      "csi load time: 33.39216[s]\n",
      "46865packets\n",
      "loading from time.txt\n",
      "loaded timestamp\n",
      "sampling rate: 999.130296279564\n",
      "575bytes / 23888950bytes\n",
      "1packets\n",
      "2389125bytes / 23888950bytes\n",
      "4155packets\n",
      "4778250bytes / 23888950bytes\n",
      "8310packets\n",
      "7166800bytes / 23888950bytes\n",
      "12464packets\n",
      "9555925bytes / 23888950bytes\n",
      "16619packets\n",
      "11944475bytes / 23888950bytes\n",
      "20773packets\n",
      "14333600bytes / 23888950bytes\n",
      "24928packets\n",
      "16722725bytes / 23888950bytes\n",
      "29083packets\n",
      "19111275bytes / 23888950bytes\n",
      "33237packets\n",
      "21500400bytes / 23888950bytes\n",
      "37392packets\n",
      "23888950bytes / 23888950bytes\n",
      "41546packets\n"
     ]
    },
    {
     "name": "stderr",
     "output_type": "stream",
     "text": [
      "[Parallel(n_jobs=-1)]: Using backend LokyBackend with 32 concurrent workers.\n",
      "[Parallel(n_jobs=-1)]: Done   8 tasks      | elapsed:    1.9s\n",
      "[Parallel(n_jobs=-1)]: Done  21 tasks      | elapsed:    2.2s\n",
      "[Parallel(n_jobs=-1)]: Done  34 tasks      | elapsed:    3.5s\n",
      "[Parallel(n_jobs=-1)]: Done  49 tasks      | elapsed:    4.2s\n",
      "[Parallel(n_jobs=-1)]: Done  64 tasks      | elapsed:    5.0s\n",
      "[Parallel(n_jobs=-1)]: Done  81 tasks      | elapsed:    6.3s\n",
      "[Parallel(n_jobs=-1)]: Done  98 tasks      | elapsed:    7.2s\n",
      "[Parallel(n_jobs=-1)]: Done 117 tasks      | elapsed:    8.5s\n",
      "[Parallel(n_jobs=-1)]: Done 136 tasks      | elapsed:   10.0s\n",
      "[Parallel(n_jobs=-1)]: Done 157 tasks      | elapsed:   10.9s\n",
      "[Parallel(n_jobs=-1)]: Done 178 tasks      | elapsed:   12.5s\n",
      "[Parallel(n_jobs=-1)]: Done 201 tasks      | elapsed:   14.1s\n",
      "[Parallel(n_jobs=-1)]: Done 224 tasks      | elapsed:   15.2s\n",
      "[Parallel(n_jobs=-1)]: Done 249 tasks      | elapsed:   16.9s\n",
      "[Parallel(n_jobs=-1)]: Done 274 tasks      | elapsed:   18.5s\n",
      "[Parallel(n_jobs=-1)]: Done 301 tasks      | elapsed:   20.2s\n",
      "[Parallel(n_jobs=-1)]: Done 328 tasks      | elapsed:   22.1s\n",
      "[Parallel(n_jobs=-1)]: Done 395 out of 416 | elapsed:   26.2s remaining:    1.4s\n",
      "[Parallel(n_jobs=-1)]: Done 416 out of 416 | elapsed:   27.0s finished\n"
     ]
    },
    {
     "name": "stdout",
     "output_type": "stream",
     "text": [
      "loaded csi\n",
      "csi load time: 29.700524[s]\n",
      "41546packets\n",
      "loading from time.txt\n",
      "loaded timestamp\n",
      "sampling rate: 996.8143468412433\n",
      "575bytes / 40336250bytes\n",
      "1packets\n",
      "4033625bytes / 40336250bytes\n",
      "7015packets\n",
      "8067250bytes / 40336250bytes\n",
      "14030packets\n",
      "12100875bytes / 40336250bytes\n",
      "21045packets\n",
      "16134500bytes / 40336250bytes\n",
      "28060packets\n",
      "20168125bytes / 40336250bytes\n",
      "35075packets\n",
      "24201750bytes / 40336250bytes\n",
      "42090packets\n",
      "28235375bytes / 40336250bytes\n",
      "49105packets\n",
      "32269000bytes / 40336250bytes\n",
      "56120packets\n",
      "36302625bytes / 40336250bytes\n",
      "63135packets\n",
      "40336250bytes / 40336250bytes\n",
      "70150packets\n"
     ]
    },
    {
     "name": "stderr",
     "output_type": "stream",
     "text": [
      "[Parallel(n_jobs=-1)]: Using backend LokyBackend with 32 concurrent workers.\n",
      "[Parallel(n_jobs=-1)]: Done   8 tasks      | elapsed:    2.0s\n",
      "[Parallel(n_jobs=-1)]: Done  21 tasks      | elapsed:    2.2s\n",
      "[Parallel(n_jobs=-1)]: Done  34 tasks      | elapsed:    3.6s\n",
      "[Parallel(n_jobs=-1)]: Done  49 tasks      | elapsed:    4.0s\n",
      "[Parallel(n_jobs=-1)]: Done  64 tasks      | elapsed:    5.4s\n",
      "[Parallel(n_jobs=-1)]: Done  81 tasks      | elapsed:    6.1s\n",
      "[Parallel(n_jobs=-1)]: Done  98 tasks      | elapsed:    7.5s\n",
      "[Parallel(n_jobs=-1)]: Done 117 tasks      | elapsed:    8.4s\n",
      "[Parallel(n_jobs=-1)]: Done 136 tasks      | elapsed:    9.6s\n",
      "[Parallel(n_jobs=-1)]: Done 157 tasks      | elapsed:   11.3s\n",
      "[Parallel(n_jobs=-1)]: Done 178 tasks      | elapsed:   12.5s\n",
      "[Parallel(n_jobs=-1)]: Done 201 tasks      | elapsed:   13.9s\n",
      "[Parallel(n_jobs=-1)]: Done 224 tasks      | elapsed:   15.4s\n",
      "[Parallel(n_jobs=-1)]: Done 249 tasks      | elapsed:   17.1s\n",
      "[Parallel(n_jobs=-1)]: Done 274 tasks      | elapsed:   19.2s\n",
      "[Parallel(n_jobs=-1)]: Done 301 tasks      | elapsed:   20.4s\n",
      "[Parallel(n_jobs=-1)]: Done 328 tasks      | elapsed:   22.2s\n",
      "[Parallel(n_jobs=-1)]: Done 357 tasks      | elapsed:   23.9s\n",
      "[Parallel(n_jobs=-1)]: Done 386 tasks      | elapsed:   25.8s\n",
      "[Parallel(n_jobs=-1)]: Done 417 tasks      | elapsed:   27.9s\n",
      "[Parallel(n_jobs=-1)]: Done 448 tasks      | elapsed:   29.9s\n",
      "[Parallel(n_jobs=-1)]: Done 481 tasks      | elapsed:   32.0s\n",
      "[Parallel(n_jobs=-1)]: Done 514 tasks      | elapsed:   34.1s\n",
      "[Parallel(n_jobs=-1)]: Done 549 tasks      | elapsed:   36.2s\n",
      "[Parallel(n_jobs=-1)]: Done 584 tasks      | elapsed:   38.5s\n",
      "[Parallel(n_jobs=-1)]: Done 621 tasks      | elapsed:   41.0s\n",
      "[Parallel(n_jobs=-1)]: Done 702 out of 702 | elapsed:   45.5s finished\n"
     ]
    },
    {
     "name": "stdout",
     "output_type": "stream",
     "text": [
      "loaded csi\n",
      "csi load time: 50.106179[s]\n",
      "70150packets\n",
      "loading from time.txt\n",
      "loaded timestamp\n",
      "sampling rate: 985.4361390261328\n",
      "575bytes / 25758275bytes\n",
      "1packets\n",
      "2576000bytes / 25758275bytes\n",
      "4480packets\n",
      "5152000bytes / 25758275bytes\n",
      "8960packets\n",
      "7728000bytes / 25758275bytes\n",
      "13440packets\n",
      "10303425bytes / 25758275bytes\n",
      "17919packets\n",
      "12879425bytes / 25758275bytes\n",
      "22399packets\n",
      "15455425bytes / 25758275bytes\n",
      "26879packets\n",
      "18030850bytes / 25758275bytes\n",
      "31358packets\n",
      "20606850bytes / 25758275bytes\n",
      "35838packets\n",
      "23182850bytes / 25758275bytes\n",
      "40318packets\n",
      "25758275bytes / 25758275bytes\n",
      "44797packets\n"
     ]
    },
    {
     "name": "stderr",
     "output_type": "stream",
     "text": [
      "[Parallel(n_jobs=-1)]: Using backend LokyBackend with 32 concurrent workers.\n",
      "[Parallel(n_jobs=-1)]: Done   8 tasks      | elapsed:    2.0s\n",
      "[Parallel(n_jobs=-1)]: Done  21 tasks      | elapsed:    2.2s\n",
      "[Parallel(n_jobs=-1)]: Done  34 tasks      | elapsed:    3.6s\n",
      "[Parallel(n_jobs=-1)]: Done  49 tasks      | elapsed:    4.3s\n",
      "[Parallel(n_jobs=-1)]: Done  64 tasks      | elapsed:    5.1s\n",
      "[Parallel(n_jobs=-1)]: Done  81 tasks      | elapsed:    6.2s\n",
      "[Parallel(n_jobs=-1)]: Done  98 tasks      | elapsed:    7.7s\n",
      "[Parallel(n_jobs=-1)]: Done 117 tasks      | elapsed:    8.4s\n",
      "[Parallel(n_jobs=-1)]: Done 136 tasks      | elapsed:   10.0s\n",
      "[Parallel(n_jobs=-1)]: Done 157 tasks      | elapsed:   11.2s\n",
      "[Parallel(n_jobs=-1)]: Done 178 tasks      | elapsed:   12.5s\n",
      "[Parallel(n_jobs=-1)]: Done 201 tasks      | elapsed:   14.1s\n",
      "[Parallel(n_jobs=-1)]: Done 224 tasks      | elapsed:   15.6s\n",
      "[Parallel(n_jobs=-1)]: Done 249 tasks      | elapsed:   17.1s\n",
      "[Parallel(n_jobs=-1)]: Done 274 tasks      | elapsed:   18.7s\n",
      "[Parallel(n_jobs=-1)]: Done 301 tasks      | elapsed:   20.5s\n",
      "[Parallel(n_jobs=-1)]: Done 328 tasks      | elapsed:   22.3s\n",
      "[Parallel(n_jobs=-1)]: Done 357 tasks      | elapsed:   24.0s\n",
      "[Parallel(n_jobs=-1)]: Done 430 out of 448 | elapsed:   28.5s remaining:    1.2s\n",
      "[Parallel(n_jobs=-1)]: Done 448 out of 448 | elapsed:   29.1s finished\n"
     ]
    },
    {
     "name": "stdout",
     "output_type": "stream",
     "text": [
      "loaded csi\n",
      "csi load time: 32.033759[s]\n",
      "44797packets\n",
      "loading from time.txt\n",
      "loaded timestamp\n",
      "sampling rate: 998.2471367612159\n",
      "575bytes / 41839300bytes\n",
      "1packets\n",
      "4184275bytes / 41839300bytes\n",
      "7277packets\n",
      "8367975bytes / 41839300bytes\n",
      "14553packets\n",
      "12552250bytes / 41839300bytes\n",
      "21830packets\n",
      "16735950bytes / 41839300bytes\n",
      "29106packets\n",
      "20919650bytes / 41839300bytes\n",
      "36382packets\n",
      "25103925bytes / 41839300bytes\n",
      "43659packets\n",
      "29287625bytes / 41839300bytes\n",
      "50935packets\n",
      "33471900bytes / 41839300bytes\n",
      "58212packets\n",
      "37655600bytes / 41839300bytes\n",
      "65488packets\n",
      "41839300bytes / 41839300bytes\n",
      "72764packets\n"
     ]
    },
    {
     "name": "stderr",
     "output_type": "stream",
     "text": [
      "[Parallel(n_jobs=-1)]: Using backend LokyBackend with 32 concurrent workers.\n",
      "[Parallel(n_jobs=-1)]: Done   8 tasks      | elapsed:    2.0s\n",
      "[Parallel(n_jobs=-1)]: Done  21 tasks      | elapsed:    2.2s\n",
      "[Parallel(n_jobs=-1)]: Done  34 tasks      | elapsed:    3.7s\n",
      "[Parallel(n_jobs=-1)]: Done  49 tasks      | elapsed:    4.1s\n",
      "[Parallel(n_jobs=-1)]: Done  64 tasks      | elapsed:    4.8s\n",
      "[Parallel(n_jobs=-1)]: Done  81 tasks      | elapsed:    6.0s\n",
      "[Parallel(n_jobs=-1)]: Done  98 tasks      | elapsed:    7.6s\n",
      "[Parallel(n_jobs=-1)]: Done 117 tasks      | elapsed:    8.2s\n",
      "[Parallel(n_jobs=-1)]: Done 136 tasks      | elapsed:    9.9s\n",
      "[Parallel(n_jobs=-1)]: Done 157 tasks      | elapsed:   11.0s\n",
      "[Parallel(n_jobs=-1)]: Done 178 tasks      | elapsed:   12.3s\n",
      "[Parallel(n_jobs=-1)]: Done 201 tasks      | elapsed:   13.8s\n",
      "[Parallel(n_jobs=-1)]: Done 224 tasks      | elapsed:   15.4s\n",
      "[Parallel(n_jobs=-1)]: Done 249 tasks      | elapsed:   16.8s\n",
      "[Parallel(n_jobs=-1)]: Done 274 tasks      | elapsed:   18.5s\n",
      "[Parallel(n_jobs=-1)]: Done 301 tasks      | elapsed:   20.3s\n",
      "[Parallel(n_jobs=-1)]: Done 328 tasks      | elapsed:   22.1s\n",
      "[Parallel(n_jobs=-1)]: Done 357 tasks      | elapsed:   24.0s\n",
      "[Parallel(n_jobs=-1)]: Done 386 tasks      | elapsed:   25.8s\n",
      "[Parallel(n_jobs=-1)]: Done 417 tasks      | elapsed:   27.9s\n",
      "[Parallel(n_jobs=-1)]: Done 448 tasks      | elapsed:   29.5s\n",
      "[Parallel(n_jobs=-1)]: Done 481 tasks      | elapsed:   31.8s\n",
      "[Parallel(n_jobs=-1)]: Done 514 tasks      | elapsed:   33.9s\n",
      "[Parallel(n_jobs=-1)]: Done 549 tasks      | elapsed:   36.1s\n",
      "[Parallel(n_jobs=-1)]: Done 584 tasks      | elapsed:   38.3s\n",
      "[Parallel(n_jobs=-1)]: Done 621 tasks      | elapsed:   40.4s\n",
      "[Parallel(n_jobs=-1)]: Done 658 tasks      | elapsed:   43.1s\n",
      "[Parallel(n_jobs=-1)]: Done 728 out of 728 | elapsed:   46.7s finished\n"
     ]
    },
    {
     "name": "stdout",
     "output_type": "stream",
     "text": [
      "loaded csi\n",
      "csi load time: 51.449861[s]\n",
      "72764packets\n",
      "loading from time.txt\n",
      "loaded timestamp\n",
      "sampling rate: 995.0519544818143\n",
      "575bytes / 38358250bytes\n",
      "1packets\n",
      "3835825bytes / 38358250bytes\n",
      "6671packets\n",
      "7671650bytes / 38358250bytes\n",
      "13342packets\n",
      "11507475bytes / 38358250bytes\n",
      "20013packets\n",
      "15343300bytes / 38358250bytes\n",
      "26684packets\n",
      "19179125bytes / 38358250bytes\n",
      "33355packets\n",
      "23014950bytes / 38358250bytes\n",
      "40026packets\n",
      "26850775bytes / 38358250bytes\n",
      "46697packets\n",
      "30686600bytes / 38358250bytes\n",
      "53368packets\n",
      "34522425bytes / 38358250bytes\n",
      "60039packets\n",
      "38358250bytes / 38358250bytes\n",
      "66710packets\n"
     ]
    },
    {
     "name": "stderr",
     "output_type": "stream",
     "text": [
      "[Parallel(n_jobs=-1)]: Using backend LokyBackend with 32 concurrent workers.\n",
      "[Parallel(n_jobs=-1)]: Done   8 tasks      | elapsed:    2.0s\n",
      "[Parallel(n_jobs=-1)]: Done  21 tasks      | elapsed:    2.2s\n",
      "[Parallel(n_jobs=-1)]: Done  34 tasks      | elapsed:    3.7s\n",
      "[Parallel(n_jobs=-1)]: Done  49 tasks      | elapsed:    4.2s\n",
      "[Parallel(n_jobs=-1)]: Done  64 tasks      | elapsed:    4.7s\n",
      "[Parallel(n_jobs=-1)]: Done  81 tasks      | elapsed:    6.3s\n",
      "[Parallel(n_jobs=-1)]: Done  98 tasks      | elapsed:    7.5s\n",
      "[Parallel(n_jobs=-1)]: Done 117 tasks      | elapsed:    8.5s\n",
      "[Parallel(n_jobs=-1)]: Done 136 tasks      | elapsed:   10.0s\n",
      "[Parallel(n_jobs=-1)]: Done 157 tasks      | elapsed:   11.2s\n",
      "[Parallel(n_jobs=-1)]: Done 178 tasks      | elapsed:   12.7s\n",
      "[Parallel(n_jobs=-1)]: Done 201 tasks      | elapsed:   14.1s\n",
      "[Parallel(n_jobs=-1)]: Done 224 tasks      | elapsed:   15.4s\n",
      "[Parallel(n_jobs=-1)]: Done 249 tasks      | elapsed:   17.0s\n",
      "[Parallel(n_jobs=-1)]: Done 274 tasks      | elapsed:   18.6s\n",
      "[Parallel(n_jobs=-1)]: Done 301 tasks      | elapsed:   20.4s\n",
      "[Parallel(n_jobs=-1)]: Done 328 tasks      | elapsed:   22.2s\n",
      "[Parallel(n_jobs=-1)]: Done 357 tasks      | elapsed:   24.0s\n",
      "[Parallel(n_jobs=-1)]: Done 386 tasks      | elapsed:   25.9s\n",
      "[Parallel(n_jobs=-1)]: Done 417 tasks      | elapsed:   27.8s\n",
      "[Parallel(n_jobs=-1)]: Done 448 tasks      | elapsed:   29.6s\n",
      "[Parallel(n_jobs=-1)]: Done 481 tasks      | elapsed:   31.9s\n",
      "[Parallel(n_jobs=-1)]: Done 514 tasks      | elapsed:   34.0s\n",
      "[Parallel(n_jobs=-1)]: Done 549 tasks      | elapsed:   36.1s\n",
      "[Parallel(n_jobs=-1)]: Done 584 tasks      | elapsed:   38.3s\n",
      "[Parallel(n_jobs=-1)]: Done 668 out of 668 | elapsed:   43.0s finished\n"
     ]
    },
    {
     "name": "stdout",
     "output_type": "stream",
     "text": [
      "loaded csi\n",
      "csi load time: 47.441284[s]\n",
      "66710packets\n",
      "loading from time.txt\n",
      "loaded timestamp\n",
      "sampling rate: 987.4359836162614\n",
      "575bytes / 72146975bytes\n",
      "1packets\n",
      "7215100bytes / 72146975bytes\n",
      "12548packets\n",
      "14429625bytes / 72146975bytes\n",
      "25095packets\n",
      "21644150bytes / 72146975bytes\n",
      "37642packets\n",
      "28859250bytes / 72146975bytes\n",
      "50190packets\n",
      "36073775bytes / 72146975bytes\n",
      "62737packets\n",
      "43288300bytes / 72146975bytes\n",
      "75284packets\n",
      "50503400bytes / 72146975bytes\n",
      "87832packets\n",
      "57717925bytes / 72146975bytes\n",
      "100379packets\n",
      "64932450bytes / 72146975bytes\n",
      "112926packets\n",
      "72146975bytes / 72146975bytes\n",
      "125473packets\n"
     ]
    },
    {
     "name": "stderr",
     "output_type": "stream",
     "text": [
      "[Parallel(n_jobs=-1)]: Using backend LokyBackend with 32 concurrent workers.\n",
      "[Parallel(n_jobs=-1)]: Done   8 tasks      | elapsed:    2.0s\n",
      "[Parallel(n_jobs=-1)]: Done  21 tasks      | elapsed:    2.2s\n",
      "[Parallel(n_jobs=-1)]: Done  34 tasks      | elapsed:    3.7s\n",
      "[Parallel(n_jobs=-1)]: Done  49 tasks      | elapsed:    4.1s\n",
      "[Parallel(n_jobs=-1)]: Done  64 tasks      | elapsed:    5.0s\n",
      "[Parallel(n_jobs=-1)]: Done  81 tasks      | elapsed:    6.3s\n",
      "[Parallel(n_jobs=-1)]: Done  98 tasks      | elapsed:    7.5s\n",
      "[Parallel(n_jobs=-1)]: Done 117 tasks      | elapsed:    8.5s\n",
      "[Parallel(n_jobs=-1)]: Done 136 tasks      | elapsed:    9.9s\n",
      "[Parallel(n_jobs=-1)]: Done 157 tasks      | elapsed:   10.9s\n",
      "[Parallel(n_jobs=-1)]: Done 178 tasks      | elapsed:   12.4s\n",
      "[Parallel(n_jobs=-1)]: Done 201 tasks      | elapsed:   14.1s\n",
      "[Parallel(n_jobs=-1)]: Done 224 tasks      | elapsed:   15.3s\n",
      "[Parallel(n_jobs=-1)]: Done 249 tasks      | elapsed:   16.8s\n",
      "[Parallel(n_jobs=-1)]: Done 274 tasks      | elapsed:   18.6s\n",
      "[Parallel(n_jobs=-1)]: Done 301 tasks      | elapsed:   20.5s\n",
      "[Parallel(n_jobs=-1)]: Done 328 tasks      | elapsed:   22.0s\n",
      "[Parallel(n_jobs=-1)]: Done 357 tasks      | elapsed:   23.8s\n",
      "[Parallel(n_jobs=-1)]: Done 386 tasks      | elapsed:   25.7s\n",
      "[Parallel(n_jobs=-1)]: Done 417 tasks      | elapsed:   27.7s\n",
      "[Parallel(n_jobs=-1)]: Done 448 tasks      | elapsed:   29.7s\n",
      "[Parallel(n_jobs=-1)]: Done 481 tasks      | elapsed:   31.7s\n",
      "[Parallel(n_jobs=-1)]: Done 514 tasks      | elapsed:   33.7s\n",
      "[Parallel(n_jobs=-1)]: Done 549 tasks      | elapsed:   36.3s\n",
      "[Parallel(n_jobs=-1)]: Done 584 tasks      | elapsed:   38.5s\n",
      "[Parallel(n_jobs=-1)]: Done 621 tasks      | elapsed:   40.8s\n",
      "[Parallel(n_jobs=-1)]: Done 658 tasks      | elapsed:   43.1s\n",
      "[Parallel(n_jobs=-1)]: Done 697 tasks      | elapsed:   45.7s\n",
      "[Parallel(n_jobs=-1)]: Done 736 tasks      | elapsed:   48.1s\n",
      "[Parallel(n_jobs=-1)]: Done 777 tasks      | elapsed:   50.8s\n",
      "[Parallel(n_jobs=-1)]: Done 818 tasks      | elapsed:   53.5s\n",
      "[Parallel(n_jobs=-1)]: Done 861 tasks      | elapsed:   55.9s\n",
      "[Parallel(n_jobs=-1)]: Done 904 tasks      | elapsed:   58.9s\n",
      "[Parallel(n_jobs=-1)]: Done 949 tasks      | elapsed:  1.0min\n",
      "[Parallel(n_jobs=-1)]: Done 994 tasks      | elapsed:  1.1min\n",
      "[Parallel(n_jobs=-1)]: Done 1041 tasks      | elapsed:  1.1min\n",
      "[Parallel(n_jobs=-1)]: Done 1088 tasks      | elapsed:  1.2min\n",
      "[Parallel(n_jobs=-1)]: Done 1137 tasks      | elapsed:  1.2min\n",
      "[Parallel(n_jobs=-1)]: Done 1186 tasks      | elapsed:  1.3min\n",
      "[Parallel(n_jobs=-1)]: Done 1255 out of 1255 | elapsed:  1.3min finished\n"
     ]
    },
    {
     "name": "stdout",
     "output_type": "stream",
     "text": [
      "loaded csi\n",
      "csi load time: 88.776613[s]\n",
      "125473packets\n",
      "loading from time.txt\n",
      "loaded timestamp\n",
      "sampling rate: 994.344638898544\n",
      "575bytes / 73248100bytes\n",
      "1packets\n",
      "7324925bytes / 73248100bytes\n",
      "12739packets\n",
      "14649850bytes / 73248100bytes\n",
      "25478packets\n",
      "21974775bytes / 73248100bytes\n",
      "38217packets\n",
      "29299700bytes / 73248100bytes\n",
      "50956packets\n",
      "36624050bytes / 73248100bytes\n",
      "63694packets\n",
      "43948975bytes / 73248100bytes\n",
      "76433packets\n",
      "51273900bytes / 73248100bytes\n",
      "89172packets\n",
      "58598825bytes / 73248100bytes\n",
      "101911packets\n",
      "65923750bytes / 73248100bytes\n",
      "114650packets\n",
      "73248100bytes / 73248100bytes\n",
      "127388packets\n"
     ]
    },
    {
     "name": "stderr",
     "output_type": "stream",
     "text": [
      "[Parallel(n_jobs=-1)]: Using backend LokyBackend with 32 concurrent workers.\n",
      "[Parallel(n_jobs=-1)]: Done   8 tasks      | elapsed:    2.0s\n",
      "[Parallel(n_jobs=-1)]: Done  21 tasks      | elapsed:    2.1s\n",
      "[Parallel(n_jobs=-1)]: Done  34 tasks      | elapsed:    3.7s\n",
      "[Parallel(n_jobs=-1)]: Done  49 tasks      | elapsed:    4.1s\n",
      "[Parallel(n_jobs=-1)]: Done  64 tasks      | elapsed:    5.0s\n",
      "[Parallel(n_jobs=-1)]: Done  81 tasks      | elapsed:    6.1s\n",
      "[Parallel(n_jobs=-1)]: Done  98 tasks      | elapsed:    7.4s\n",
      "[Parallel(n_jobs=-1)]: Done 117 tasks      | elapsed:    8.4s\n",
      "[Parallel(n_jobs=-1)]: Done 136 tasks      | elapsed:    9.7s\n",
      "[Parallel(n_jobs=-1)]: Done 157 tasks      | elapsed:   10.9s\n",
      "[Parallel(n_jobs=-1)]: Done 178 tasks      | elapsed:   12.1s\n",
      "[Parallel(n_jobs=-1)]: Done 201 tasks      | elapsed:   13.7s\n",
      "[Parallel(n_jobs=-1)]: Done 224 tasks      | elapsed:   15.2s\n",
      "[Parallel(n_jobs=-1)]: Done 249 tasks      | elapsed:   16.7s\n",
      "[Parallel(n_jobs=-1)]: Done 274 tasks      | elapsed:   18.3s\n",
      "[Parallel(n_jobs=-1)]: Done 301 tasks      | elapsed:   20.1s\n",
      "[Parallel(n_jobs=-1)]: Done 328 tasks      | elapsed:   21.9s\n",
      "[Parallel(n_jobs=-1)]: Done 357 tasks      | elapsed:   23.7s\n",
      "[Parallel(n_jobs=-1)]: Done 386 tasks      | elapsed:   25.5s\n",
      "[Parallel(n_jobs=-1)]: Done 417 tasks      | elapsed:   27.4s\n",
      "[Parallel(n_jobs=-1)]: Done 448 tasks      | elapsed:   29.5s\n",
      "[Parallel(n_jobs=-1)]: Done 481 tasks      | elapsed:   31.8s\n",
      "[Parallel(n_jobs=-1)]: Done 514 tasks      | elapsed:   33.9s\n",
      "[Parallel(n_jobs=-1)]: Done 549 tasks      | elapsed:   36.1s\n",
      "[Parallel(n_jobs=-1)]: Done 584 tasks      | elapsed:   38.2s\n",
      "[Parallel(n_jobs=-1)]: Done 621 tasks      | elapsed:   40.7s\n",
      "[Parallel(n_jobs=-1)]: Done 658 tasks      | elapsed:   43.0s\n",
      "[Parallel(n_jobs=-1)]: Done 697 tasks      | elapsed:   45.4s\n",
      "[Parallel(n_jobs=-1)]: Done 736 tasks      | elapsed:   48.3s\n",
      "[Parallel(n_jobs=-1)]: Done 777 tasks      | elapsed:   50.5s\n",
      "[Parallel(n_jobs=-1)]: Done 818 tasks      | elapsed:   53.2s\n",
      "[Parallel(n_jobs=-1)]: Done 861 tasks      | elapsed:   56.1s\n",
      "[Parallel(n_jobs=-1)]: Done 904 tasks      | elapsed:   58.6s\n",
      "[Parallel(n_jobs=-1)]: Done 949 tasks      | elapsed:  1.0min\n",
      "[Parallel(n_jobs=-1)]: Done 994 tasks      | elapsed:  1.1min\n",
      "[Parallel(n_jobs=-1)]: Done 1041 tasks      | elapsed:  1.1min\n",
      "[Parallel(n_jobs=-1)]: Done 1088 tasks      | elapsed:  1.2min\n",
      "[Parallel(n_jobs=-1)]: Done 1137 tasks      | elapsed:  1.2min\n",
      "[Parallel(n_jobs=-1)]: Done 1186 tasks      | elapsed:  1.3min\n",
      "[Parallel(n_jobs=-1)]: Done 1274 out of 1274 | elapsed:  1.4min finished\n"
     ]
    },
    {
     "name": "stdout",
     "output_type": "stream",
     "text": [
      "loaded csi\n",
      "csi load time: 90.33236[s]\n",
      "127388packets\n",
      "loading from time.txt\n",
      "loaded timestamp\n",
      "sampling rate: 997.8866065651699\n",
      "575bytes / 41190700bytes\n",
      "1packets\n",
      "4119300bytes / 41190700bytes\n",
      "7164packets\n",
      "8238600bytes / 41190700bytes\n",
      "14328packets\n",
      "12357325bytes / 41190700bytes\n",
      "21491packets\n",
      "16476625bytes / 41190700bytes\n",
      "28655packets\n",
      "20595350bytes / 41190700bytes\n",
      "35818packets\n",
      "24714650bytes / 41190700bytes\n",
      "42982packets\n",
      "28833950bytes / 41190700bytes\n",
      "50146packets\n",
      "32952675bytes / 41190700bytes\n",
      "57309packets\n",
      "37071975bytes / 41190700bytes\n",
      "64473packets\n",
      "41190700bytes / 41190700bytes\n",
      "71636packets\n"
     ]
    },
    {
     "name": "stderr",
     "output_type": "stream",
     "text": [
      "[Parallel(n_jobs=-1)]: Using backend LokyBackend with 32 concurrent workers.\n",
      "[Parallel(n_jobs=-1)]: Done   8 tasks      | elapsed:    1.9s\n",
      "[Parallel(n_jobs=-1)]: Done  21 tasks      | elapsed:    2.2s\n",
      "[Parallel(n_jobs=-1)]: Done  34 tasks      | elapsed:    3.4s\n",
      "[Parallel(n_jobs=-1)]: Done  49 tasks      | elapsed:    4.2s\n",
      "[Parallel(n_jobs=-1)]: Done  64 tasks      | elapsed:    4.8s\n",
      "[Parallel(n_jobs=-1)]: Done  81 tasks      | elapsed:    6.3s\n",
      "[Parallel(n_jobs=-1)]: Done  98 tasks      | elapsed:    7.3s\n",
      "[Parallel(n_jobs=-1)]: Done 117 tasks      | elapsed:    8.5s\n",
      "[Parallel(n_jobs=-1)]: Done 136 tasks      | elapsed:    9.6s\n",
      "[Parallel(n_jobs=-1)]: Done 157 tasks      | elapsed:   11.0s\n",
      "[Parallel(n_jobs=-1)]: Done 178 tasks      | elapsed:   12.3s\n",
      "[Parallel(n_jobs=-1)]: Done 201 tasks      | elapsed:   13.8s\n",
      "[Parallel(n_jobs=-1)]: Done 224 tasks      | elapsed:   15.2s\n",
      "[Parallel(n_jobs=-1)]: Done 249 tasks      | elapsed:   16.9s\n",
      "[Parallel(n_jobs=-1)]: Done 274 tasks      | elapsed:   18.6s\n",
      "[Parallel(n_jobs=-1)]: Done 301 tasks      | elapsed:   20.2s\n",
      "[Parallel(n_jobs=-1)]: Done 328 tasks      | elapsed:   22.0s\n",
      "[Parallel(n_jobs=-1)]: Done 357 tasks      | elapsed:   23.9s\n",
      "[Parallel(n_jobs=-1)]: Done 386 tasks      | elapsed:   25.8s\n",
      "[Parallel(n_jobs=-1)]: Done 417 tasks      | elapsed:   27.9s\n",
      "[Parallel(n_jobs=-1)]: Done 448 tasks      | elapsed:   29.8s\n",
      "[Parallel(n_jobs=-1)]: Done 481 tasks      | elapsed:   31.9s\n",
      "[Parallel(n_jobs=-1)]: Done 514 tasks      | elapsed:   33.9s\n",
      "[Parallel(n_jobs=-1)]: Done 549 tasks      | elapsed:   36.2s\n",
      "[Parallel(n_jobs=-1)]: Done 584 tasks      | elapsed:   38.3s\n",
      "[Parallel(n_jobs=-1)]: Done 621 tasks      | elapsed:   40.5s\n",
      "[Parallel(n_jobs=-1)]: Done 717 out of 717 | elapsed:   46.0s finished\n"
     ]
    },
    {
     "name": "stdout",
     "output_type": "stream",
     "text": [
      "loaded csi\n",
      "csi load time: 50.71038[s]\n",
      "71636packets\n",
      "loading from time.txt\n",
      "loaded timestamp\n",
      "sampling rate: 995.3081758472479\n"
     ]
    }
   ],
   "source": [
    "import save_npy\n",
    "date = '1219'\n",
    "npypath = f\"../npsave/{date}/\"\n",
    "datapath = f\"../data/{date}/\"\n",
    "save_npy.save_npy(datapath, npypath)"
   ]
  },
  {
   "cell_type": "markdown",
   "id": "e6b3d264-ce02-4122-a1d1-f8ffa6809202",
   "metadata": {
    "jp-MarkdownHeadingCollapsed": true,
    "tags": []
   },
   "source": [
    "### Label"
   ]
  },
  {
   "cell_type": "code",
   "execution_count": 2,
   "id": "837a1d58-1bde-4e60-99d7-147ec866865c",
   "metadata": {
    "tags": []
   },
   "outputs": [
    {
     "name": "stdout",
     "output_type": "stream",
     "text": [
      "Door loading label...Done\n",
      "Door loading label...Done\n"
     ]
    }
   ],
   "source": [
    "labelp = md.LabelParser('Door', '../sense/1219/01_labels.csv')\n",
    "labelp.load_label()"
   ]
  },
  {
   "cell_type": "code",
   "execution_count": 14,
   "id": "15e37f7c-11e9-4f92-ab2f-a9b3823d0c5a",
   "metadata": {
    "tags": []
   },
   "outputs": [
    {
     "name": "stdout",
     "output_type": "stream",
     "text": [
      "start    1702984649.944\n",
      "Name: 0, dtype: object\n"
     ]
    }
   ],
   "source": [
    "print(labelp.labels.loc[0, ['start']].astype(str))"
   ]
  },
  {
   "cell_type": "code",
   "execution_count": 13,
   "id": "38045d0e-4db9-4ae0-8383-81bd3a3197d8",
   "metadata": {
    "tags": []
   },
   "outputs": [
    {
     "name": "stdout",
     "output_type": "stream",
     "text": [
      "1702984831.686326\n"
     ]
    }
   ],
   "source": [
    "print(str(csi.timestamps[0]))"
   ]
  },
  {
   "cell_type": "markdown",
   "id": "9960a865-35ce-4a38-97cd-1a7ed48a2a51",
   "metadata": {
    "jp-MarkdownHeadingCollapsed": true,
    "tags": []
   },
   "source": [
    "### Load bag and save images"
   ]
  },
  {
   "cell_type": "code",
   "execution_count": 3,
   "id": "08853051-32a3-42b8-ad10-6de9362826e9",
   "metadata": {
    "tags": []
   },
   "outputs": [
    {
     "name": "stdout",
     "output_type": "stream",
     "text": [
      "Done exporting 3609 frames\n",
      "Saving...Done\n"
     ]
    }
   ],
   "source": [
    "sub = [f'{i:02}' for i in range(1, 13)]\n",
    "print(sub)\n",
    "for s in sub:\n",
    "    bagloader = md.BagLoader(f'../sense/1219/{s}.bag')\n",
    "    bagloader.img_shape = (226, 128)\n",
    "    bagloader.jupyter_mode=True\n",
    "    bagloader.export_images(show_img=True)\n",
    "    bagloader.save_images('../sense/1219/raw226_128/')"
   ]
  },
  {
   "cell_type": "code",
   "execution_count": null,
   "id": "ab807ca3-6580-4323-82a3-1abc8fee2d62",
   "metadata": {
    "tags": []
   },
   "outputs": [],
   "source": [
    "bagloader = md.BagLoader(f'../sense/1219/08.bag')\n",
    "bagloader.img_shape = (226, 128)\n",
    "bagloader.jupyter_mode=True\n",
    "bagloader.export_images(depth_filter=True, show_img=False)\n",
    "#bagloader.save_images('../sense/1219/raw226_128/')"
   ]
  },
  {
   "cell_type": "code",
   "execution_count": 7,
   "id": "e76f326e-33b1-4ec9-9549-d5a9af6ab20c",
   "metadata": {
    "tags": []
   },
   "outputs": [],
   "source": [
    "bagloader.reset_data()"
   ]
  },
  {
   "cell_type": "code",
   "execution_count": 3,
   "id": "a64b3e75-64a1-4e9e-9830-7b8c54ed8a0f",
   "metadata": {
    "tags": []
   },
   "outputs": [
    {
     "name": "stdout",
     "output_type": "stream",
     "text": [
      "Clearing depth > 3000...Done\n"
     ]
    }
   ],
   "source": [
    "bagloader.clear_excessive_depth()"
   ]
  },
  {
   "cell_type": "code",
   "execution_count": 4,
   "id": "f157b923-63f8-4644-bee6-105c02c9e0fc",
   "metadata": {
    "tags": []
   },
   "outputs": [
    {
     "name": "stdout",
     "output_type": "stream",
     "text": [
      "Normalizing depth within 3000.0...Done\n"
     ]
    }
   ],
   "source": [
    "bagloader.normalize_depth()"
   ]
  },
  {
   "cell_type": "code",
   "execution_count": 5,
   "id": "df8ce08f-e1d8-4cd1-a1d7-8add9bc7cf87",
   "metadata": {
    "tags": []
   },
   "outputs": [
    {
     "name": "stdout",
     "output_type": "stream",
     "text": [
      "Masking...\n"
     ]
    },
    {
     "data": {
      "image/png": "[encoded data removed]",
      "text/plain": [
       "<Figure size 432x288 with 1 Axes>"
      ]
     },
     "metadata": {
      "needs_background": "light"
     },
     "output_type": "display_data"
    },
    {
     "data": {
      "application/json": {
       "ascii": false,
       "bar_format": null,
       "colour": null,
       "elapsed": 0.016109704971313477,
       "initial": 0,
       "n": 0,
       "ncols": null,
       "nrows": 0,
       "postfix": null,
       "prefix": "",
       "rate": null,
       "total": 2001,
       "unit": "it",
       "unit_divisor": 1000,
       "unit_scale": false
      },
      "application/vnd.jupyter.widget-view+json": {
       "model_id": "b6a89ef24f33494fbf8cf4bd002d5c9c",
       "version_major": 2,
       "version_minor": 0
      },
      "text/plain": [
       "  0%|          | 0/2001 [00:00<?, ?it/s]"
      ]
     },
     "metadata": {},
     "output_type": "display_data"
    },
    {
     "name": "stdout",
     "output_type": "stream",
     "text": [
      "Done\n"
     ]
    }
   ],
   "source": [
    "bagloader.depth_mask(0.9)"
   ]
  },
  {
   "cell_type": "code",
   "execution_count": null,
   "id": "287f7d44-283d-4360-a030-7d887cd621c0",
   "metadata": {
    "tags": []
   },
   "outputs": [],
   "source": [
    "bagloader.playback()"
   ]
  },
  {
   "cell_type": "markdown",
   "id": "0738e38a-133f-42c5-9012-32228164b968",
   "metadata": {},
   "source": [
    "### Load images"
   ]
  },
  {
   "cell_type": "code",
   "execution_count": 2,
   "id": "f5ec3aaf-af6b-4a3d-a274-a085fbcd2a23",
   "metadata": {
    "tags": []
   },
   "outputs": [
    {
     "name": "stdout",
     "output_type": "stream",
     "text": [
      "exp loading IMG...\n",
      " Loaded images of (3001, 128, 226) as float64\n"
     ]
    }
   ],
   "source": [
    "imgloader = md.ImageLoader('exp', '../sense/1219/raw226_128/01_img.npy', '../sense/1219/raw226_128/01_camtime.npy')"
   ]
  },
  {
   "cell_type": "code",
   "execution_count": 139,
   "id": "c53cf018-3b00-47aa-9311-f0cec03ce1c1",
   "metadata": {
    "tags": []
   },
   "outputs": [
    {
     "name": "stdout",
     "output_type": "stream",
     "text": [
      "Masking...\n"
     ]
    },
    {
     "data": {
      "image/png": "[encoded data removed]",
      "text/plain": [
       "<Figure size 432x288 with 1 Axes>"
      ]
     },
     "metadata": {
      "needs_background": "light"
     },
     "output_type": "display_data"
    },
    {
     "data": {
      "application/json": {
       "ascii": false,
       "bar_format": null,
       "colour": null,
       "elapsed": 0.013532400131225586,
       "initial": 0,
       "n": 0,
       "ncols": null,
       "nrows": 0,
       "postfix": null,
       "prefix": "",
       "rate": null,
       "total": 3001,
       "unit": "it",
       "unit_divisor": 1000,
       "unit_scale": false
      },
      "application/vnd.jupyter.widget-view+json": {
       "model_id": "3a2e8bcb7e9441cf83cbd781c9f97a72",
       "version_major": 2,
       "version_minor": 0
      },
      "text/plain": [
       "  0%|          | 0/3001 [00:00<?, ?it/s]"
      ]
     },
     "metadata": {},
     "output_type": "display_data"
    },
    {
     "name": "stdout",
     "output_type": "stream",
     "text": [
      "Done\n"
     ]
    }
   ],
   "source": [
    "tmap = imgloader.depth_mask(0.8)"
   ]
  },
  {
   "cell_type": "code",
   "execution_count": 141,
   "id": "4a89dcae-5b9f-4e62-995f-9a0fc0a4bf3c",
   "metadata": {
    "tags": []
   },
   "outputs": [
    {
     "name": "stdout",
     "output_type": "stream",
     "text": [
      "Clearing depth > 3600...Done\n"
     ]
    }
   ],
   "source": [
    "imgloader.clear_excessive_depth(3600)"
   ]
  },
  {
   "cell_type": "code",
   "execution_count": 138,
   "id": "d8440287-faf7-4fad-b85c-0b681414f988",
   "metadata": {
    "tags": []
   },
   "outputs": [
    {
     "name": "stdout",
     "output_type": "stream",
     "text": [
      "Data reset!\n"
     ]
    }
   ],
   "source": [
    "imgloader.reset_data()"
   ]
  },
  {
   "cell_type": "code",
   "execution_count": 120,
   "id": "795a447e-3a05-437d-9c4a-4dcb92062a2a",
   "metadata": {
    "tags": []
   },
   "outputs": [
    {
     "name": "stdout",
     "output_type": "stream",
     "text": [
      "Normalizing depth within 3600.0...Done\n"
     ]
    }
   ],
   "source": [
    "imgloader.normalize_depth()"
   ]
  },
  {
   "cell_type": "code",
   "execution_count": null,
   "id": "cdf0fcc3-0090-43a0-b459-b8e93b72f65c",
   "metadata": {
    "tags": []
   },
   "outputs": [],
   "source": [
    "imgloader.playback(True, False)"
   ]
  },
  {
   "cell_type": "code",
   "execution_count": 88,
   "id": "7f4ed4c1-ab74-41f9-a278-f6d5f2adf088",
   "metadata": {
    "tags": []
   },
   "outputs": [
    {
     "name": "stdout",
     "output_type": "stream",
     "text": [
      "Data reset!\n"
     ]
    }
   ],
   "source": [
    "imgloader.reset_data()"
   ]
  },
  {
   "cell_type": "code",
   "execution_count": 212,
   "id": "93e1f6b1-6b3e-43c2-a9b1-b359d1e3eaa3",
   "metadata": {
    "tags": []
   },
   "outputs": [
    {
     "name": "stdout",
     "output_type": "stream",
     "text": [
      "exp loading IMG...\n",
      " Loaded images of (3610, 128, 226) as float64\n"
     ]
    }
   ],
   "source": [
    "imgloader2 = md.ImageLoader('exp', '../sense/1219/raw226_128/12_img.npy', '../sense/1219/raw226_128/12_camtime.npy')"
   ]
  },
  {
   "cell_type": "code",
   "execution_count": 213,
   "id": "140fe7e4-9eb0-45a1-97a1-88fb13c22549",
   "metadata": {
    "tags": []
   },
   "outputs": [
    {
     "name": "stdout",
     "output_type": "stream",
     "text": [
      "Masking...\n"
     ]
    },
    {
     "data": {
      "image/png": "[encoded data removed]",
      "text/plain": [
       "<Figure size 432x288 with 1 Axes>"
      ]
     },
     "metadata": {
      "needs_background": "light"
     },
     "output_type": "display_data"
    },
    {
     "data": {
      "application/json": {
       "ascii": false,
       "bar_format": null,
       "colour": null,
       "elapsed": 0.016095399856567383,
       "initial": 0,
       "n": 0,
       "ncols": null,
       "nrows": 0,
       "postfix": null,
       "prefix": "",
       "rate": null,
       "total": 3610,
       "unit": "it",
       "unit_divisor": 1000,
       "unit_scale": false
      },
      "application/vnd.jupyter.widget-view+json": {
       "model_id": "6d61280e50e247a6abfe2bdb15501861",
       "version_major": 2,
       "version_minor": 0
      },
      "text/plain": [
       "  0%|          | 0/3610 [00:00<?, ?it/s]"
      ]
     },
     "metadata": {},
     "output_type": "display_data"
    },
    {
     "name": "stdout",
     "output_type": "stream",
     "text": [
      "Done\n"
     ]
    }
   ],
   "source": [
    "tmap2 = imgloader2.depth_mask(tmap=tmap)"
   ]
  },
  {
   "cell_type": "code",
   "execution_count": 23,
   "id": "588749cb-f49c-4e9f-91ea-1925c18534fe",
   "metadata": {
    "tags": []
   },
   "outputs": [
    {
     "name": "stdout",
     "output_type": "stream",
     "text": [
      "Normalizing depth within 3000.0...Done\n"
     ]
    }
   ],
   "source": [
    "imgloader2.normalize_depth()"
   ]
  },
  {
   "cell_type": "code",
   "execution_count": 219,
   "id": "8eaae0d5-e771-42e4-a393-db1161cc8e9b",
   "metadata": {
    "tags": []
   },
   "outputs": [
    {
     "name": "stdout",
     "output_type": "stream",
     "text": [
      "Data reset!\n"
     ]
    }
   ],
   "source": [
    "imgloader2.reset_data()"
   ]
  },
  {
   "cell_type": "code",
   "execution_count": 220,
   "id": "fa0d5fb6-c59d-4733-9dfd-326afd845ad9",
   "metadata": {
    "tags": []
   },
   "outputs": [
    {
     "name": "stdout",
     "output_type": "stream",
     "text": [
      "Clearing depth > 3600...Done\n"
     ]
    }
   ],
   "source": [
    "imgloader2.clear_excessive_depth(3600)"
   ]
  },
  {
   "cell_type": "code",
   "execution_count": null,
   "id": "867dc0ed-e176-4398-a703-3addb8ebcb7a",
   "metadata": {
    "tags": []
   },
   "outputs": [],
   "source": [
    "imgloader2.playback(True, False)"
   ]
  },
  {
   "cell_type": "code",
   "execution_count": 63,
   "id": "dd16326b-3b0d-4661-a49c-e0ae2cb3854e",
   "metadata": {
    "tags": []
   },
   "outputs": [
    {
     "name": "stdout",
     "output_type": "stream",
     "text": [
      "exp loading IMG...\n",
      " Loaded images of (2001, 128, 226) as float64\n"
     ]
    }
   ],
   "source": [
    "imgloader3 = md.ImageLoader('exp', '../sense/1219/raw226_128/09_img.npy', '../sense/1219/raw226_128/09_camtime.npy')"
   ]
  },
  {
   "cell_type": "code",
   "execution_count": 80,
   "id": "ac703b1a-e349-4305-a719-651278f6235a",
   "metadata": {
    "tags": []
   },
   "outputs": [
    {
     "name": "stdout",
     "output_type": "stream",
     "text": [
      "Data reset!\n"
     ]
    }
   ],
   "source": [
    "imgloader3.reset_data()"
   ]
  },
  {
   "cell_type": "code",
   "execution_count": 84,
   "id": "83ac3394-c8f2-4696-a01c-6c1cb8f5a221",
   "metadata": {},
   "outputs": [
    {
     "name": "stdout",
     "output_type": "stream",
     "text": [
      "Clearing depth > 3500...Done\n"
     ]
    }
   ],
   "source": [
    "imgloader3.clear_excessive_depth(3500)"
   ]
  },
  {
   "cell_type": "code",
   "execution_count": 82,
   "id": "195ef7b0-b4ee-479d-b1bf-c198c9f6fde3",
   "metadata": {
    "tags": []
   },
   "outputs": [
    {
     "name": "stdout",
     "output_type": "stream",
     "text": [
      "Masking...\n"
     ]
    },
    {
     "data": {
      "image/png": "[encoded data removed]",
      "text/plain": [
       "<Figure size 432x288 with 1 Axes>"
      ]
     },
     "metadata": {
      "needs_background": "light"
     },
     "output_type": "display_data"
    },
    {
     "data": {
      "application/json": {
       "ascii": false,
       "bar_format": null,
       "colour": null,
       "elapsed": 0.013245344161987305,
       "initial": 0,
       "n": 0,
       "ncols": null,
       "nrows": 0,
       "postfix": null,
       "prefix": "",
       "rate": null,
       "total": 2001,
       "unit": "it",
       "unit_divisor": 1000,
       "unit_scale": false
      },
      "application/vnd.jupyter.widget-view+json": {
       "model_id": "a22ab9f3f3494c14bc073b72285bf067",
       "version_major": 2,
       "version_minor": 0
      },
      "text/plain": [
       "  0%|          | 0/2001 [00:00<?, ?it/s]"
      ]
     },
     "metadata": {},
     "output_type": "display_data"
    },
    {
     "name": "stdout",
     "output_type": "stream",
     "text": [
      "Done\n"
     ]
    }
   ],
   "source": [
    "tmap3 = imgloader3.depth_mask(tmap=tmap)"
   ]
  },
  {
   "cell_type": "code",
   "execution_count": null,
   "id": "87c082f9-363d-49fd-a466-10d742d8fbe3",
   "metadata": {
    "tags": []
   },
   "outputs": [],
   "source": [
    "imgloader3.playback(True, False)"
   ]
  },
  {
   "cell_type": "code",
   "execution_count": null,
   "id": "74249359-345d-4d5f-b49c-13f71c1619e5",
   "metadata": {},
   "outputs": [],
   "source": []
  }
 ],
 "metadata": {
  "kernelspec": {
   "display_name": "Python 3 (ipykernel)",
   "language": "python",
   "name": "python3"
  },
  "language_info": {
   "codemirror_mode": {
    "name": "ipython",
    "version": 3
   },
   "file_extension": ".py",
   "mimetype": "text/x-python",
   "name": "python",
   "nbconvert_exporter": "python",
   "pygments_lexer": "ipython3",
   "version": "3.7.11"
  }
 },
 "nbformat": 4,
 "nbformat_minor": 5
}
