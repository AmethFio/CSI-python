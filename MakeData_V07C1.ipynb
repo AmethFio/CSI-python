{
 "cells": [
  {
   "cell_type": "code",
   "execution_count": 1,
   "id": "31355ef8-c143-4431-ad06-9fa204f675ae",
   "metadata": {
    "tags": []
   },
   "outputs": [],
   "source": [
    "import make_dataset_v04 as md"
   ]
  },
  {
   "cell_type": "code",
   "execution_count": 2,
   "id": "93c3fa94-8b52-4224-aefb-a470bd82d2d4",
   "metadata": {
    "tags": []
   },
   "outputs": [],
   "source": [
    "dsmaker = md.DatasetMaker()"
   ]
  },
  {
   "cell_type": "code",
   "execution_count": 3,
   "id": "efb73894-a830-4ce4-84b9-cb0a5f5caa06",
   "metadata": {
    "tags": []
   },
   "outputs": [],
   "source": [
    "csi_len=900\n",
    "dataset_name = f'make18_{csi_len}'\n",
    "csi_shape = (2, csi_len, 30, 3)"
   ]
  },
  {
   "cell_type": "code",
   "execution_count": 10,
   "id": "4b375063-3b5e-4575-997f-b747a8966583",
   "metadata": {
    "scrolled": true,
    "tags": []
   },
   "outputs": [
    {
     "name": "stdout",
     "output_type": "stream",
     "text": [
      "01 loading IMG...\n",
      " Loaded images of (5400, 128, 226) as float64\n",
      "CSI npy load start... Wed Apr 24 17:00:36 2024\n",
      "loaded\n",
      "scaled\n",
      "Removing sm...Done\n",
      "CSI (186643, 30, 3, 3) load complete Wed Apr 24 17:01:26 2024\n",
      "01 loading label...Done\n",
      "CSI apply dynamic component extraction: overall-divide versus tx1...Done\n",
      "CSI apply dynamic component extraction: highpass versus rx0...Done\n",
      "01 converting IMG...Done\n",
      "01 picking samples...\n",
      "\n"
     ]
    },
    {
     "data": {
      "application/json": {
       "ascii": false,
       "bar_format": null,
       "colour": null,
       "elapsed": 0.01597142219543457,
       "initial": 0,
       "n": 0,
       "ncols": null,
       "nrows": 0,
       "postfix": null,
       "prefix": "",
       "rate": null,
       "total": 5,
       "unit": "it",
       "unit_divisor": 1000,
       "unit_scale": false
      },
      "application/vnd.jupyter.widget-view+json": {
       "model_id": "7077a6a828664b12b5e609547d7bd22d",
       "version_major": 2,
       "version_minor": 0
      },
      "text/plain": [
       "  0%|          | 0/5 [00:00<?, ?it/s]"
      ]
     },
     "metadata": {},
     "output_type": "display_data"
    },
    {
     "data": {
      "application/json": {
       "ascii": false,
       "bar_format": null,
       "colour": null,
       "elapsed": 0.01290583610534668,
       "initial": 0,
       "n": 0,
       "ncols": null,
       "nrows": 0,
       "postfix": null,
       "prefix": "",
       "rate": null,
       "total": 8,
       "unit": "it",
       "unit_divisor": 1000,
       "unit_scale": false
      },
      "application/vnd.jupyter.widget-view+json": {
       "model_id": "",
       "version_major": 2,
       "version_minor": 0
      },
      "text/plain": [
       "  0%|          | 0/8 [00:00<?, ?it/s]"
      ]
     },
     "metadata": {},
     "output_type": "display_data"
    },
    {
     "name": "stdout",
     "output_type": "stream",
     "text": [
      " Group 0 Segment 0: IMG = 252 ~ 277, CSI = 11628 ~ 12470.\n",
      " Group 0 Segment 1: IMG = 360 ~ 396, CSI = 15236 ~ 16435.\n",
      " Group 0 Segment 2: IMG = 400 ~ 429, CSI = 16569 ~ 17535.\n",
      " Group 0 Segment 3: IMG = 510 ~ 558, CSI = 20236 ~ 21837.\n",
      " Group 0 Segment 4: IMG = 566 ~ 595, CSI = 22104 ~ 23069.\n",
      " Group 0 Segment 5: IMG = 689 ~ 727, CSI = 26196 ~ 27443.\n",
      " Group 0 Segment 6: IMG = 736 ~ 759, CSI = 27738 ~ 28495.\n",
      " Group 0 Segment 7: IMG = 849 ~ 889, CSI = 31490 ~ 32791.\n"
     ]
    },
    {
     "data": {
      "application/json": {
       "ascii": false,
       "bar_format": null,
       "colour": null,
       "elapsed": 0.012490510940551758,
       "initial": 0,
       "n": 0,
       "ncols": null,
       "nrows": 0,
       "postfix": null,
       "prefix": "",
       "rate": null,
       "total": 10,
       "unit": "it",
       "unit_divisor": 1000,
       "unit_scale": false
      },
      "application/vnd.jupyter.widget-view+json": {
       "model_id": "",
       "version_major": 2,
       "version_minor": 0
      },
      "text/plain": [
       "  0%|          | 0/10 [00:00<?, ?it/s]"
      ]
     },
     "metadata": {},
     "output_type": "display_data"
    },
    {
     "name": "stdout",
     "output_type": "stream",
     "text": [
      " Group 1 Segment 0: IMG = 954 ~ 1013, CSI = 34923 ~ 36891.\n",
      " Group 1 Segment 1: IMG = 1027 ~ 1101, CSI = 37358 ~ 39826.\n",
      " Group 1 Segment 2: IMG = 1119 ~ 1186, CSI = 40426 ~ 42659.\n",
      " Group 1 Segment 3: IMG = 1200 ~ 1274, CSI = 43126 ~ 45592.\n",
      " Group 1 Segment 4: IMG = 1288 ~ 1350, CSI = 46059 ~ 48126.\n",
      " Group 1 Segment 5: IMG = 1368 ~ 1446, CSI = 48727 ~ 51326.\n",
      " Group 1 Segment 6: IMG = 1462 ~ 1527, CSI = 51860 ~ 54028.\n",
      " Group 1 Segment 7: IMG = 1546 ~ 1614, CSI = 54661 ~ 56928.\n",
      " Group 1 Segment 8: IMG = 1649 ~ 1709, CSI = 58095 ~ 60096.\n",
      " Group 1 Segment 9: IMG = 1725 ~ 1791, CSI = 60628 ~ 62826.\n"
     ]
    },
    {
     "data": {
      "application/json": {
       "ascii": false,
       "bar_format": null,
       "colour": null,
       "elapsed": 0.012630701065063477,
       "initial": 0,
       "n": 0,
       "ncols": null,
       "nrows": 0,
       "postfix": null,
       "prefix": "",
       "rate": null,
       "total": 10,
       "unit": "it",
       "unit_divisor": 1000,
       "unit_scale": false
      },
      "application/vnd.jupyter.widget-view+json": {
       "model_id": "",
       "version_major": 2,
       "version_minor": 0
      },
      "text/plain": [
       "  0%|          | 0/10 [00:00<?, ?it/s]"
      ]
     },
     "metadata": {},
     "output_type": "display_data"
    },
    {
     "name": "stdout",
     "output_type": "stream",
     "text": [
      " Group 2 Segment 0: IMG = 1901 ~ 1973, CSI = 66491 ~ 68884.\n",
      " Group 2 Segment 1: IMG = 1981 ~ 2046, CSI = 69150 ~ 71351.\n",
      " Group 2 Segment 2: IMG = 2077 ~ 2143, CSI = 72385 ~ 74551.\n",
      " Group 2 Segment 3: IMG = 2152 ~ 2218, CSI = 74848 ~ 77047.\n",
      " Group 2 Segment 4: IMG = 2255 ~ 2320, CSI = 78315 ~ 80481.\n",
      " Group 2 Segment 5: IMG = 2329 ~ 2398, CSI = 80781 ~ 83068.\n",
      " Group 2 Segment 6: IMG = 2432 ~ 2498, CSI = 84138 ~ 86296.\n",
      " Group 2 Segment 7: IMG = 2508 ~ 2584, CSI = 86629 ~ 89164.\n",
      " Group 2 Segment 8: IMG = 2600 ~ 2669, CSI = 89698 ~ 91996.\n",
      " Group 2 Segment 9: IMG = 2680 ~ 2760, CSI = 92364 ~ 95030.\n"
     ]
    },
    {
     "data": {
      "application/json": {
       "ascii": false,
       "bar_format": null,
       "colour": null,
       "elapsed": 0.012470722198486328,
       "initial": 0,
       "n": 0,
       "ncols": null,
       "nrows": 0,
       "postfix": null,
       "prefix": "",
       "rate": null,
       "total": 10,
       "unit": "it",
       "unit_divisor": 1000,
       "unit_scale": false
      },
      "application/vnd.jupyter.widget-view+json": {
       "model_id": "",
       "version_major": 2,
       "version_minor": 0
      },
      "text/plain": [
       "  0%|          | 0/10 [00:00<?, ?it/s]"
      ]
     },
     "metadata": {},
     "output_type": "display_data"
    },
    {
     "name": "stdout",
     "output_type": "stream",
     "text": [
      " Group 3 Segment 0: IMG = 2837 ~ 2890, CSI = 97597 ~ 99365.\n",
      " Group 3 Segment 1: IMG = 2912 ~ 2976, CSI = 100100 ~ 102232.\n",
      " Group 3 Segment 2: IMG = 3009 ~ 3063, CSI = 103332 ~ 105133.\n",
      " Group 3 Segment 3: IMG = 3090 ~ 3152, CSI = 106033 ~ 108098.\n",
      " Group 3 Segment 4: IMG = 3177 ~ 3230, CSI = 108932 ~ 110696.\n",
      " Group 3 Segment 5: IMG = 3259 ~ 3326, CSI = 111663 ~ 113893.\n",
      " Group 3 Segment 6: IMG = 3346 ~ 3403, CSI = 114560 ~ 116459.\n",
      " Group 3 Segment 7: IMG = 3438 ~ 3508, CSI = 117626 ~ 119959.\n",
      " Group 3 Segment 8: IMG = 3531 ~ 3583, CSI = 120726 ~ 122459.\n",
      " Group 3 Segment 9: IMG = 3617 ~ 3687, CSI = 123594 ~ 125926.\n"
     ]
    },
    {
     "data": {
      "application/json": {
       "ascii": false,
       "bar_format": null,
       "colour": null,
       "elapsed": 0.012878656387329102,
       "initial": 0,
       "n": 0,
       "ncols": null,
       "nrows": 0,
       "postfix": null,
       "prefix": "",
       "rate": null,
       "total": 10,
       "unit": "it",
       "unit_divisor": 1000,
       "unit_scale": false
      },
      "application/vnd.jupyter.widget-view+json": {
       "model_id": "",
       "version_major": 2,
       "version_minor": 0
      },
      "text/plain": [
       "  0%|          | 0/10 [00:00<?, ?it/s]"
      ]
     },
     "metadata": {},
     "output_type": "display_data"
    },
    {
     "name": "stdout",
     "output_type": "stream",
     "text": [
      " Group 4 Segment 0: IMG = 3797 ~ 3814, CSI = 129594 ~ 130160.\n",
      " Group 4 Segment 1: IMG = 3895 ~ 3923, CSI = 132857 ~ 133786.\n",
      " Group 4 Segment 2: IMG = 3980 ~ 4002, CSI = 135672 ~ 136401.\n",
      " Group 4 Segment 3: IMG = 4081 ~ 4107, CSI = 139035 ~ 139900.\n",
      " Group 4 Segment 4: IMG = 4163 ~ 4184, CSI = 141766 ~ 142467.\n",
      " Group 4 Segment 5: IMG = 4265 ~ 4289, CSI = 145166 ~ 145965.\n",
      " Group 4 Segment 6: IMG = 4346 ~ 4364, CSI = 147866 ~ 148466.\n",
      " Group 4 Segment 7: IMG = 4447 ~ 4477, CSI = 151234 ~ 152232.\n",
      " Group 4 Segment 8: IMG = 4527 ~ 4549, CSI = 153900 ~ 154633.\n",
      " Group 4 Segment 9: IMG = 4623 ~ 4656, CSI = 157101 ~ 158200.\n",
      " Done picking\n",
      "01 dividing train and test...Done\n",
      "01 exporting train data...\n"
     ]
    },
    {
     "data": {
      "application/json": {
       "ascii": false,
       "bar_format": null,
       "colour": null,
       "elapsed": 0.012657642364501953,
       "initial": 0,
       "n": 0,
       "ncols": null,
       "nrows": 0,
       "postfix": null,
       "prefix": "",
       "rate": null,
       "total": 57,
       "unit": "it",
       "unit_divisor": 1000,
       "unit_scale": false
      },
      "application/vnd.jupyter.widget-view+json": {
       "model_id": "5c38363e20ce453e854dd956cd7f8c8e",
       "version_major": 2,
       "version_minor": 0
      },
      "text/plain": [
       "  0%|          | 0/57 [00:00<?, ?it/s]"
      ]
     },
     "metadata": {},
     "output_type": "display_data"
    },
    {
     "name": "stdout",
     "output_type": "stream",
     "text": [
      " Exproted picked data: rimg of (57, 1, 128, 226) as float64\n",
      " Exproted picked data: csi of (57, 6, 30, 900) as float64\n",
      " Exproted picked data: time of (57, 1, 1) as float64\n",
      " Exproted picked data: cimg of (57, 1, 128, 128) as float64\n",
      " Exproted picked data: center of (57, 1, 2) as float64\n",
      " Exproted picked data: bbx of (57, 1, 4) as float64\n",
      " Exproted picked data: depth of (57, 1, 1) as float64\n",
      " Exproted picked data: pd of (57, 1, 30, 900) as float64\n",
      "01 exporting test data...\n"
     ]
    },
    {
     "data": {
      "application/json": {
       "ascii": false,
       "bar_format": null,
       "colour": null,
       "elapsed": 0.021172046661376953,
       "initial": 0,
       "n": 0,
       "ncols": null,
       "nrows": 0,
       "postfix": null,
       "prefix": "",
       "rate": null,
       "total": 1172,
       "unit": "it",
       "unit_divisor": 1000,
       "unit_scale": false
      },
      "application/vnd.jupyter.widget-view+json": {
       "model_id": "eda72092079044dbbc52973b36e77e95",
       "version_major": 2,
       "version_minor": 0
      },
      "text/plain": [
       "  0%|          | 0/1172 [00:00<?, ?it/s]"
      ]
     },
     "metadata": {},
     "output_type": "display_data"
    },
    {
     "name": "stdout",
     "output_type": "stream",
     "text": [
      " Exproted de_picked data: rimg of (1172, 1, 128, 226) as float64\n",
      " Exproted de_picked data: csi of (1172, 6, 30, 900) as float64\n",
      " Exproted de_picked data: time of (1172, 1, 1) as float64\n",
      " Exproted de_picked data: cimg of (1172, 1, 128, 128) as float64\n",
      " Exproted de_picked data: center of (1172, 1, 2) as float64\n",
      " Exproted de_picked data: bbx of (1172, 1, 4) as float64\n",
      " Exproted de_picked data: depth of (1172, 1, 1) as float64\n",
      " Exproted de_picked data: pd of (1172, 1, 30, 900) as float64\n",
      "01 saving...Done\n",
      "02 loading IMG...\n",
      " Loaded images of (5000, 128, 226) as float64\n",
      "CSI npy load start... Wed Apr 24 17:18:04 2024\n",
      "loaded\n",
      "scaled\n",
      "Removing sm...Done\n",
      "CSI (178280, 30, 3, 3) load complete Wed Apr 24 17:18:51 2024\n",
      "02 loading label...Done\n",
      "CSI apply dynamic component extraction: overall-divide versus tx1...Done\n",
      "CSI apply dynamic component extraction: highpass versus rx0...Done\n",
      "02 converting IMG...Done\n",
      "02 picking samples...\n",
      "\n"
     ]
    },
    {
     "data": {
      "application/json": {
       "ascii": false,
       "bar_format": null,
       "colour": null,
       "elapsed": 0.015105485916137695,
       "initial": 0,
       "n": 0,
       "ncols": null,
       "nrows": 0,
       "postfix": null,
       "prefix": "",
       "rate": null,
       "total": 5,
       "unit": "it",
       "unit_divisor": 1000,
       "unit_scale": false
      },
      "application/vnd.jupyter.widget-view+json": {
       "model_id": "f20ed272e22947cf85f177c291b1ee45",
       "version_major": 2,
       "version_minor": 0
      },
      "text/plain": [
       "  0%|          | 0/5 [00:00<?, ?it/s]"
      ]
     },
     "metadata": {},
     "output_type": "display_data"
    },
    {
     "data": {
      "application/json": {
       "ascii": false,
       "bar_format": null,
       "colour": null,
       "elapsed": 0.010626077651977539,
       "initial": 0,
       "n": 0,
       "ncols": null,
       "nrows": 0,
       "postfix": null,
       "prefix": "",
       "rate": null,
       "total": 6,
       "unit": "it",
       "unit_divisor": 1000,
       "unit_scale": false
      },
      "application/vnd.jupyter.widget-view+json": {
       "model_id": "",
       "version_major": 2,
       "version_minor": 0
      },
      "text/plain": [
       "  0%|          | 0/6 [00:00<?, ?it/s]"
      ]
     },
     "metadata": {},
     "output_type": "display_data"
    },
    {
     "name": "stdout",
     "output_type": "stream",
     "text": [
      " Group 0 Segment 0: IMG = 127 ~ 178, CSI = 6168 ~ 7869.\n",
      " Group 0 Segment 1: IMG = 299 ~ 365, CSI = 11900 ~ 14098.\n",
      " Group 0 Segment 2: IMG = 378 ~ 431, CSI = 14533 ~ 16295.\n",
      " Group 0 Segment 3: IMG = 555 ~ 619, CSI = 20426 ~ 22559.\n",
      " Group 0 Segment 4: IMG = 630 ~ 680, CSI = 22926 ~ 24594.\n",
      " Group 0 Segment 5: IMG = 817 ~ 892, CSI = 29158 ~ 31659.\n"
     ]
    },
    {
     "data": {
      "application/json": {
       "ascii": false,
       "bar_format": null,
       "colour": null,
       "elapsed": 0.011949777603149414,
       "initial": 0,
       "n": 0,
       "ncols": null,
       "nrows": 0,
       "postfix": null,
       "prefix": "",
       "rate": null,
       "total": 6,
       "unit": "it",
       "unit_divisor": 1000,
       "unit_scale": false
      },
      "application/vnd.jupyter.widget-view+json": {
       "model_id": "",
       "version_major": 2,
       "version_minor": 0
      },
      "text/plain": [
       "  0%|          | 0/6 [00:00<?, ?it/s]"
      ]
     },
     "metadata": {},
     "output_type": "display_data"
    },
    {
     "name": "stdout",
     "output_type": "stream",
     "text": [
      " Group 1 Segment 0: IMG = 958 ~ 1083, CSI = 33860 ~ 38024.\n",
      " Group 1 Segment 1: IMG = 1101 ~ 1241, CSI = 38624 ~ 43289.\n",
      " Group 1 Segment 2: IMG = 1255 ~ 1376, CSI = 43755 ~ 47789.\n",
      " Group 1 Segment 3: IMG = 1384 ~ 1538, CSI = 48056 ~ 53183.\n",
      " Group 1 Segment 4: IMG = 1566 ~ 1684, CSI = 54116 ~ 58047.\n",
      " Group 1 Segment 5: IMG = 1708 ~ 1857, CSI = 58846 ~ 63804.\n"
     ]
    },
    {
     "data": {
      "application/json": {
       "ascii": false,
       "bar_format": null,
       "colour": null,
       "elapsed": 0.011712789535522461,
       "initial": 0,
       "n": 0,
       "ncols": null,
       "nrows": 0,
       "postfix": null,
       "prefix": "",
       "rate": null,
       "total": 6,
       "unit": "it",
       "unit_divisor": 1000,
       "unit_scale": false
      },
      "application/vnd.jupyter.widget-view+json": {
       "model_id": "",
       "version_major": 2,
       "version_minor": 0
      },
      "text/plain": [
       "  0%|          | 0/6 [00:00<?, ?it/s]"
      ]
     },
     "metadata": {},
     "output_type": "display_data"
    },
    {
     "name": "stdout",
     "output_type": "stream",
     "text": [
      " Group 2 Segment 0: IMG = 1937 ~ 2061, CSI = 66468 ~ 70585.\n",
      " Group 2 Segment 1: IMG = 2071 ~ 2215, CSI = 70907 ~ 75626.\n",
      " Group 2 Segment 2: IMG = 2243 ~ 2360, CSI = 76550 ~ 80417.\n",
      " Group 2 Segment 3: IMG = 2382 ~ 2514, CSI = 81150 ~ 85550.\n",
      " Group 2 Segment 4: IMG = 2539 ~ 2647, CSI = 86384 ~ 89984.\n",
      " Group 2 Segment 5: IMG = 2663 ~ 2813, CSI = 90519 ~ 95519.\n"
     ]
    },
    {
     "data": {
      "application/json": {
       "ascii": false,
       "bar_format": null,
       "colour": null,
       "elapsed": 0.01224374771118164,
       "initial": 0,
       "n": 0,
       "ncols": null,
       "nrows": 0,
       "postfix": null,
       "prefix": "",
       "rate": null,
       "total": 6,
       "unit": "it",
       "unit_divisor": 1000,
       "unit_scale": false
      },
      "application/vnd.jupyter.widget-view+json": {
       "model_id": "",
       "version_major": 2,
       "version_minor": 0
      },
      "text/plain": [
       "  0%|          | 0/6 [00:00<?, ?it/s]"
      ]
     },
     "metadata": {},
     "output_type": "display_data"
    },
    {
     "name": "stdout",
     "output_type": "stream",
     "text": [
      " Group 3 Segment 0: IMG = 2908 ~ 3031, CSI = 98687 ~ 102788.\n",
      " Group 3 Segment 1: IMG = 3049 ~ 3184, CSI = 103387 ~ 107889.\n",
      " Group 3 Segment 2: IMG = 3240 ~ 3363, CSI = 109755 ~ 113855.\n",
      " Group 3 Segment 3: IMG = 3386 ~ 3535, CSI = 114616 ~ 119582.\n",
      " Group 3 Segment 4: IMG = 3576 ~ 3701, CSI = 120948 ~ 125060.\n",
      " Group 3 Segment 5: IMG = 3723 ~ 3879, CSI = 125793 ~ 130890.\n"
     ]
    },
    {
     "data": {
      "application/json": {
       "ascii": false,
       "bar_format": null,
       "colour": null,
       "elapsed": 0.012674570083618164,
       "initial": 0,
       "n": 0,
       "ncols": null,
       "nrows": 0,
       "postfix": null,
       "prefix": "",
       "rate": null,
       "total": 5,
       "unit": "it",
       "unit_divisor": 1000,
       "unit_scale": false
      },
      "application/vnd.jupyter.widget-view+json": {
       "model_id": "",
       "version_major": 2,
       "version_minor": 0
      },
      "text/plain": [
       "  0%|          | 0/5 [00:00<?, ?it/s]"
      ]
     },
     "metadata": {},
     "output_type": "display_data"
    },
    {
     "name": "stdout",
     "output_type": "stream",
     "text": [
      " Group 4 Segment 0: IMG = 3991 ~ 4060, CSI = 134624 ~ 136924.\n",
      " Group 4 Segment 1: IMG = 4228 ~ 4307, CSI = 142524 ~ 145158.\n",
      " Group 4 Segment 2: IMG = 4392 ~ 4443, CSI = 147991 ~ 149692.\n",
      " Group 4 Segment 3: IMG = 4616 ~ 4692, CSI = 155458 ~ 157991.\n",
      " Group 4 Segment 4: IMG = 4772 ~ 4828, CSI = 160659 ~ 162526.\n",
      " Done picking\n",
      "02 dividing train and test...Done\n",
      "02 exporting train data...\n"
     ]
    },
    {
     "data": {
      "application/json": {
       "ascii": false,
       "bar_format": null,
       "colour": null,
       "elapsed": 0.01316523551940918,
       "initial": 0,
       "n": 0,
       "ncols": null,
       "nrows": 0,
       "postfix": null,
       "prefix": "",
       "rate": null,
       "total": 447,
       "unit": "it",
       "unit_divisor": 1000,
       "unit_scale": false
      },
      "application/vnd.jupyter.widget-view+json": {
       "model_id": "204874fe7ba748f194b86e7e28f266b4",
       "version_major": 2,
       "version_minor": 0
      },
      "text/plain": [
       "  0%|          | 0/447 [00:00<?, ?it/s]"
      ]
     },
     "metadata": {},
     "output_type": "display_data"
    },
    {
     "name": "stdout",
     "output_type": "stream",
     "text": [
      " Exproted picked data: rimg of (447, 1, 128, 226) as float64\n",
      " Exproted picked data: csi of (447, 6, 30, 900) as float64\n",
      " Exproted picked data: time of (447, 1, 1) as float64\n",
      " Exproted picked data: cimg of (447, 1, 128, 128) as float64\n",
      " Exproted picked data: center of (447, 1, 2) as float64\n",
      " Exproted picked data: bbx of (447, 1, 4) as float64\n",
      " Exproted picked data: depth of (447, 1, 1) as float64\n",
      " Exproted picked data: pd of (447, 1, 30, 900) as float64\n",
      "02 exporting test data...\n"
     ]
    },
    {
     "data": {
      "application/json": {
       "ascii": false,
       "bar_format": null,
       "colour": null,
       "elapsed": 0.024275541305541992,
       "initial": 0,
       "n": 0,
       "ncols": null,
       "nrows": 0,
       "postfix": null,
       "prefix": "",
       "rate": null,
       "total": 1852,
       "unit": "it",
       "unit_divisor": 1000,
       "unit_scale": false
      },
      "application/vnd.jupyter.widget-view+json": {
       "model_id": "829fcc4e136f46d9be46809312218cf8",
       "version_major": 2,
       "version_minor": 0
      },
      "text/plain": [
       "  0%|          | 0/1852 [00:00<?, ?it/s]"
      ]
     },
     "metadata": {},
     "output_type": "display_data"
    },
    {
     "name": "stdout",
     "output_type": "stream",
     "text": [
      " Exproted de_picked data: rimg of (1852, 1, 128, 226) as float64\n",
      " Exproted de_picked data: csi of (1852, 6, 30, 900) as float64\n",
      " Exproted de_picked data: time of (1852, 1, 1) as float64\n",
      " Exproted de_picked data: cimg of (1852, 1, 128, 128) as float64\n",
      " Exproted de_picked data: center of (1852, 1, 2) as float64\n",
      " Exproted de_picked data: bbx of (1852, 1, 4) as float64\n",
      " Exproted de_picked data: depth of (1852, 1, 1) as float64\n",
      " Exproted de_picked data: pd of (1852, 1, 30, 900) as float64\n",
      "02 saving...Done\n",
      "03 loading IMG...\n",
      " Loaded images of (5100, 128, 226) as float64\n",
      "CSI npy load start... Wed Apr 24 17:48:36 2024\n",
      "loaded\n",
      "scaled\n",
      "Removing sm...Done\n",
      "CSI (173802, 30, 3, 3) load complete Wed Apr 24 17:49:22 2024\n",
      "03 loading label...Done\n",
      "CSI apply dynamic component extraction: overall-divide versus tx1...Done\n",
      "CSI apply dynamic component extraction: highpass versus rx0...Done\n",
      "03 converting IMG...Done\n",
      "03 picking samples...\n",
      "\n"
     ]
    },
    {
     "data": {
      "application/json": {
       "ascii": false,
       "bar_format": null,
       "colour": null,
       "elapsed": 0.015481710433959961,
       "initial": 0,
       "n": 0,
       "ncols": null,
       "nrows": 0,
       "postfix": null,
       "prefix": "",
       "rate": null,
       "total": 3,
       "unit": "it",
       "unit_divisor": 1000,
       "unit_scale": false
      },
      "application/vnd.jupyter.widget-view+json": {
       "model_id": "3241e296c2a04e128a6d95301872f5a7",
       "version_major": 2,
       "version_minor": 0
      },
      "text/plain": [
       "  0%|          | 0/3 [00:00<?, ?it/s]"
      ]
     },
     "metadata": {},
     "output_type": "display_data"
    },
    {
     "data": {
      "application/json": {
       "ascii": false,
       "bar_format": null,
       "colour": null,
       "elapsed": 0.01304483413696289,
       "initial": 0,
       "n": 0,
       "ncols": null,
       "nrows": 0,
       "postfix": null,
       "prefix": "",
       "rate": null,
       "total": 12,
       "unit": "it",
       "unit_divisor": 1000,
       "unit_scale": false
      },
      "application/vnd.jupyter.widget-view+json": {
       "model_id": "",
       "version_major": 2,
       "version_minor": 0
      },
      "text/plain": [
       "  0%|          | 0/12 [00:00<?, ?it/s]"
      ]
     },
     "metadata": {},
     "output_type": "display_data"
    },
    {
     "name": "stdout",
     "output_type": "stream",
     "text": [
      " Group 0 Segment 0: IMG = 93 ~ 185, CSI = 4583 ~ 7649.\n",
      " Group 0 Segment 1: IMG = 214 ~ 313, CSI = 8611 ~ 11912.\n",
      " Group 0 Segment 2: IMG = 351 ~ 444, CSI = 13176 ~ 16277.\n",
      " Group 0 Segment 3: IMG = 480 ~ 578, CSI = 17475 ~ 20715.\n",
      " Group 0 Segment 4: IMG = 618 ~ 712, CSI = 21997 ~ 25108.\n",
      " Group 0 Segment 5: IMG = 745 ~ 853, CSI = 26207 ~ 29807.\n",
      " Group 0 Segment 6: IMG = 879 ~ 975, CSI = 30674 ~ 33875.\n",
      " Group 0 Segment 7: IMG = 1019 ~ 1128, CSI = 35341 ~ 38975.\n",
      " Group 0 Segment 8: IMG = 1151 ~ 1255, CSI = 39742 ~ 43209.\n",
      " Group 0 Segment 9: IMG = 1299 ~ 1404, CSI = 44673 ~ 48173.\n",
      " Group 0 Segment 10: IMG = 1441 ~ 1546, CSI = 49407 ~ 52906.\n",
      " Group 0 Segment 11: IMG = 1583 ~ 1691, CSI = 54140 ~ 57741.\n"
     ]
    },
    {
     "data": {
      "application/json": {
       "ascii": false,
       "bar_format": null,
       "colour": null,
       "elapsed": 0.012541532516479492,
       "initial": 0,
       "n": 0,
       "ncols": null,
       "nrows": 0,
       "postfix": null,
       "prefix": "",
       "rate": null,
       "total": 12,
       "unit": "it",
       "unit_divisor": 1000,
       "unit_scale": false
      },
      "application/vnd.jupyter.widget-view+json": {
       "model_id": "",
       "version_major": 2,
       "version_minor": 0
      },
      "text/plain": [
       "  0%|          | 0/12 [00:00<?, ?it/s]"
      ]
     },
     "metadata": {},
     "output_type": "display_data"
    },
    {
     "name": "stdout",
     "output_type": "stream",
     "text": [
      " Group 1 Segment 0: IMG = 1759 ~ 1829, CSI = 60003 ~ 62333.\n",
      " Group 1 Segment 1: IMG = 1886 ~ 1960, CSI = 64233 ~ 66699.\n",
      " Group 1 Segment 2: IMG = 2037 ~ 2107, CSI = 69265 ~ 71594.\n",
      " Group 1 Segment 3: IMG = 2168 ~ 2232, CSI = 73627 ~ 75758.\n",
      " Group 1 Segment 4: IMG = 2317 ~ 2379, CSI = 78545 ~ 80589.\n",
      " Group 1 Segment 5: IMG = 2452 ~ 2515, CSI = 83020 ~ 85121.\n",
      " Group 1 Segment 6: IMG = 2598 ~ 2666, CSI = 87888 ~ 90155.\n",
      " Group 1 Segment 7: IMG = 2730 ~ 2798, CSI = 92288 ~ 94555.\n",
      " Group 1 Segment 8: IMG = 2885 ~ 2952, CSI = 97453 ~ 99684.\n",
      " Group 1 Segment 9: IMG = 3024 ~ 3093, CSI = 102082 ~ 104383.\n",
      " Group 1 Segment 10: IMG = 3175 ~ 3241, CSI = 107116 ~ 109316.\n",
      " Group 1 Segment 11: IMG = 3309 ~ 3383, CSI = 111576 ~ 114038.\n"
     ]
    },
    {
     "data": {
      "application/json": {
       "ascii": false,
       "bar_format": null,
       "colour": null,
       "elapsed": 0.012170076370239258,
       "initial": 0,
       "n": 0,
       "ncols": null,
       "nrows": 0,
       "postfix": null,
       "prefix": "",
       "rate": null,
       "total": 12,
       "unit": "it",
       "unit_divisor": 1000,
       "unit_scale": false
      },
      "application/vnd.jupyter.widget-view+json": {
       "model_id": "",
       "version_major": 2,
       "version_minor": 0
      },
      "text/plain": [
       "  0%|          | 0/12 [00:00<?, ?it/s]"
      ]
     },
     "metadata": {},
     "output_type": "display_data"
    },
    {
     "name": "stdout",
     "output_type": "stream",
     "text": [
      " Group 2 Segment 0: IMG = 3488 ~ 3525, CSI = 117540 ~ 118772.\n",
      " Group 2 Segment 1: IMG = 3624 ~ 3662, CSI = 122072 ~ 123340.\n",
      " Group 2 Segment 2: IMG = 3750 ~ 3785, CSI = 126304 ~ 127471.\n",
      " Group 2 Segment 3: IMG = 3865 ~ 3904, CSI = 130035 ~ 131318.\n",
      " Group 2 Segment 4: IMG = 3994 ~ 4030, CSI = 134319 ~ 135520.\n",
      " Group 2 Segment 5: IMG = 4114 ~ 4151, CSI = 138319 ~ 139556.\n",
      " Group 2 Segment 6: IMG = 4249 ~ 4283, CSI = 142814 ~ 143948.\n",
      " Group 2 Segment 7: IMG = 4375 ~ 4411, CSI = 147015 ~ 148215.\n",
      " Group 2 Segment 8: IMG = 4508 ~ 4540, CSI = 151449 ~ 152515.\n",
      " Group 2 Segment 9: IMG = 4632 ~ 4669, CSI = 155615 ~ 156816.\n",
      " Group 2 Segment 10: IMG = 4769 ~ 4803, CSI = 160149 ~ 161282.\n",
      " Group 2 Segment 11: IMG = 4891 ~ 4928, CSI = 164244 ~ 165445.\n",
      " Done picking\n",
      "03 dividing train and test...Done\n",
      "03 exporting train data...\n"
     ]
    },
    {
     "data": {
      "application/json": {
       "ascii": false,
       "bar_format": null,
       "colour": null,
       "elapsed": 0.012733936309814453,
       "initial": 0,
       "n": 0,
       "ncols": null,
       "nrows": 0,
       "postfix": null,
       "prefix": "",
       "rate": null,
       "total": 119,
       "unit": "it",
       "unit_divisor": 1000,
       "unit_scale": false
      },
      "application/vnd.jupyter.widget-view+json": {
       "model_id": "c49ce71758724645aea5f4fa1d523685",
       "version_major": 2,
       "version_minor": 0
      },
      "text/plain": [
       "  0%|          | 0/119 [00:00<?, ?it/s]"
      ]
     },
     "metadata": {},
     "output_type": "display_data"
    },
    {
     "name": "stdout",
     "output_type": "stream",
     "text": [
      " Exproted picked data: rimg of (119, 1, 128, 226) as float64\n",
      " Exproted picked data: csi of (119, 6, 30, 900) as float64\n",
      " Exproted picked data: time of (119, 1, 1) as float64\n",
      " Exproted picked data: cimg of (119, 1, 128, 128) as float64\n",
      " Exproted picked data: center of (119, 1, 2) as float64\n",
      " Exproted picked data: bbx of (119, 1, 4) as float64\n",
      " Exproted picked data: depth of (119, 1, 1) as float64\n",
      " Exproted picked data: pd of (119, 1, 30, 900) as float64\n",
      "03 exporting test data...\n"
     ]
    },
    {
     "data": {
      "application/json": {
       "ascii": false,
       "bar_format": null,
       "colour": null,
       "elapsed": 0.021155595779418945,
       "initial": 0,
       "n": 0,
       "ncols": null,
       "nrows": 0,
       "postfix": null,
       "prefix": "",
       "rate": null,
       "total": 1367,
       "unit": "it",
       "unit_divisor": 1000,
       "unit_scale": false
      },
      "application/vnd.jupyter.widget-view+json": {
       "model_id": "83c2c127103e459a88e51d454724fe64",
       "version_major": 2,
       "version_minor": 0
      },
      "text/plain": [
       "  0%|          | 0/1367 [00:00<?, ?it/s]"
      ]
     },
     "metadata": {},
     "output_type": "display_data"
    },
    {
     "name": "stdout",
     "output_type": "stream",
     "text": [
      " Exproted de_picked data: rimg of (1367, 1, 128, 226) as float64\n",
      " Exproted de_picked data: csi of (1367, 6, 30, 900) as float64\n",
      " Exproted de_picked data: time of (1367, 1, 1) as float64\n",
      " Exproted de_picked data: cimg of (1367, 1, 128, 128) as float64\n",
      " Exproted de_picked data: center of (1367, 1, 2) as float64\n",
      " Exproted de_picked data: bbx of (1367, 1, 4) as float64\n",
      " Exproted de_picked data: depth of (1367, 1, 1) as float64\n",
      " Exproted de_picked data: pd of (1367, 1, 30, 900) as float64\n",
      "03 saving...Done\n",
      "04 loading IMG...\n",
      " Loaded images of (5100, 128, 226) as float64\n",
      "CSI npy load start... Wed Apr 24 18:09:07 2024\n",
      "loaded\n",
      "scaled\n",
      "Removing sm...Done\n",
      "CSI (211747, 30, 3, 3) load complete Wed Apr 24 18:10:02 2024\n",
      "04 loading label...Done\n",
      "CSI apply dynamic component extraction: overall-divide versus tx1...Done\n",
      "CSI apply dynamic component extraction: highpass versus rx0...Done\n",
      "04 converting IMG...Done\n",
      "04 picking samples...\n",
      "\n"
     ]
    },
    {
     "data": {
      "application/json": {
       "ascii": false,
       "bar_format": null,
       "colour": null,
       "elapsed": 0.015627384185791016,
       "initial": 0,
       "n": 0,
       "ncols": null,
       "nrows": 0,
       "postfix": null,
       "prefix": "",
       "rate": null,
       "total": 3,
       "unit": "it",
       "unit_divisor": 1000,
       "unit_scale": false
      },
      "application/vnd.jupyter.widget-view+json": {
       "model_id": "ab2dafe97ec44b0b9bcfd4eabf294d7d",
       "version_major": 2,
       "version_minor": 0
      },
      "text/plain": [
       "  0%|          | 0/3 [00:00<?, ?it/s]"
      ]
     },
     "metadata": {},
     "output_type": "display_data"
    },
    {
     "data": {
      "application/json": {
       "ascii": false,
       "bar_format": null,
       "colour": null,
       "elapsed": 0.011022090911865234,
       "initial": 0,
       "n": 0,
       "ncols": null,
       "nrows": 0,
       "postfix": null,
       "prefix": "",
       "rate": null,
       "total": 8,
       "unit": "it",
       "unit_divisor": 1000,
       "unit_scale": false
      },
      "application/vnd.jupyter.widget-view+json": {
       "model_id": "",
       "version_major": 2,
       "version_minor": 0
      },
      "text/plain": [
       "  0%|          | 0/8 [00:00<?, ?it/s]"
      ]
     },
     "metadata": {},
     "output_type": "display_data"
    },
    {
     "name": "stdout",
     "output_type": "stream",
     "text": [
      " Group 0 Segment 0: IMG = 106 ~ 249, CSI = 5488 ~ 10247.\n",
      " Group 0 Segment 1: IMG = 310 ~ 449, CSI = 12280 ~ 16913.\n",
      " Group 0 Segment 2: IMG = 535 ~ 657, CSI = 19779 ~ 23826.\n",
      " Group 0 Segment 3: IMG = 738 ~ 862, CSI = 26436 ~ 30569.\n",
      " Group 0 Segment 4: IMG = 946 ~ 1087, CSI = 33368 ~ 38070.\n",
      " Group 0 Segment 5: IMG = 1153 ~ 1325, CSI = 40270 ~ 46004.\n",
      " Group 0 Segment 6: IMG = 1416 ~ 1599, CSI = 49035 ~ 55134.\n",
      " Group 0 Segment 7: IMG = 1666 ~ 1838, CSI = 57365 ~ 63092.\n"
     ]
    },
    {
     "data": {
      "application/json": {
       "ascii": false,
       "bar_format": null,
       "colour": null,
       "elapsed": 0.012573957443237305,
       "initial": 0,
       "n": 0,
       "ncols": null,
       "nrows": 0,
       "postfix": null,
       "prefix": "",
       "rate": null,
       "total": 8,
       "unit": "it",
       "unit_divisor": 1000,
       "unit_scale": false
      },
      "application/vnd.jupyter.widget-view+json": {
       "model_id": "",
       "version_major": 2,
       "version_minor": 0
      },
      "text/plain": [
       "  0%|          | 0/8 [00:00<?, ?it/s]"
      ]
     },
     "metadata": {},
     "output_type": "display_data"
    },
    {
     "name": "stdout",
     "output_type": "stream",
     "text": [
      " Group 1 Segment 0: IMG = 1951 ~ 2101, CSI = 66857 ~ 71856.\n",
      " Group 1 Segment 1: IMG = 2175 ~ 2321, CSI = 74322 ~ 79137.\n",
      " Group 1 Segment 2: IMG = 2413 ~ 2546, CSI = 82204 ~ 86637.\n",
      " Group 1 Segment 3: IMG = 2643 ~ 2769, CSI = 89870 ~ 94070.\n",
      " Group 1 Segment 4: IMG = 2877 ~ 3005, CSI = 97669 ~ 101934.\n",
      " Group 1 Segment 5: IMG = 3099 ~ 3229, CSI = 105065 ~ 109396.\n",
      " Group 1 Segment 6: IMG = 3358 ~ 3494, CSI = 113690 ~ 118258.\n",
      " Group 1 Segment 7: IMG = 3580 ~ 3720, CSI = 121090 ~ 125741.\n"
     ]
    },
    {
     "data": {
      "application/json": {
       "ascii": false,
       "bar_format": null,
       "colour": null,
       "elapsed": 0.012444496154785156,
       "initial": 0,
       "n": 0,
       "ncols": null,
       "nrows": 0,
       "postfix": null,
       "prefix": "",
       "rate": null,
       "total": 5,
       "unit": "it",
       "unit_divisor": 1000,
       "unit_scale": false
      },
      "application/vnd.jupyter.widget-view+json": {
       "model_id": "",
       "version_major": 2,
       "version_minor": 0
      },
      "text/plain": [
       "  0%|          | 0/5 [00:00<?, ?it/s]"
      ]
     },
     "metadata": {},
     "output_type": "display_data"
    },
    {
     "name": "stdout",
     "output_type": "stream",
     "text": [
      " Group 2 Segment 0: IMG = 3880 ~ 3957, CSI = 130997 ~ 133565.\n",
      " Group 2 Segment 1: IMG = 4132 ~ 4208, CSI = 139393 ~ 141928.\n",
      " Group 2 Segment 2: IMG = 4391 ~ 4465, CSI = 148026 ~ 150491.\n",
      " Group 2 Segment 3: IMG = 4636 ~ 4714, CSI = 156190 ~ 158787.\n",
      " Group 2 Segment 4: IMG = 4899 ~ 4974, CSI = 164938 ~ 167438.\n",
      " Done picking\n",
      "04 dividing train and test...Done\n",
      "04 exporting train data...\n"
     ]
    },
    {
     "data": {
      "application/json": {
       "ascii": false,
       "bar_format": null,
       "colour": null,
       "elapsed": 0.013406038284301758,
       "initial": 0,
       "n": 0,
       "ncols": null,
       "nrows": 0,
       "postfix": null,
       "prefix": "",
       "rate": null,
       "total": 307,
       "unit": "it",
       "unit_divisor": 1000,
       "unit_scale": false
      },
      "application/vnd.jupyter.widget-view+json": {
       "model_id": "81faa4edf83840b7835a56e009e9ddfd",
       "version_major": 2,
       "version_minor": 0
      },
      "text/plain": [
       "  0%|          | 0/307 [00:00<?, ?it/s]"
      ]
     },
     "metadata": {},
     "output_type": "display_data"
    },
    {
     "name": "stdout",
     "output_type": "stream",
     "text": [
      " Exproted picked data: rimg of (307, 1, 128, 226) as float64\n",
      " Exproted picked data: csi of (307, 6, 30, 900) as float64\n",
      " Exproted picked data: time of (307, 1, 1) as float64\n",
      " Exproted picked data: cimg of (307, 1, 128, 128) as float64\n",
      " Exproted picked data: center of (307, 1, 2) as float64\n",
      " Exproted picked data: bbx of (307, 1, 4) as float64\n",
      " Exproted picked data: depth of (307, 1, 1) as float64\n",
      " Exproted picked data: pd of (307, 1, 30, 900) as float64\n",
      "04 exporting test data...\n"
     ]
    },
    {
     "data": {
      "application/json": {
       "ascii": false,
       "bar_format": null,
       "colour": null,
       "elapsed": 0.02243518829345703,
       "initial": 0,
       "n": 0,
       "ncols": null,
       "nrows": 0,
       "postfix": null,
       "prefix": "",
       "rate": null,
       "total": 1793,
       "unit": "it",
       "unit_divisor": 1000,
       "unit_scale": false
      },
      "application/vnd.jupyter.widget-view+json": {
       "model_id": "ee3143a127e64091ae90007c6ec3ebff",
       "version_major": 2,
       "version_minor": 0
      },
      "text/plain": [
       "  0%|          | 0/1793 [00:00<?, ?it/s]"
      ]
     },
     "metadata": {},
     "output_type": "display_data"
    },
    {
     "name": "stdout",
     "output_type": "stream",
     "text": [
      " Exproted de_picked data: rimg of (1793, 1, 128, 226) as float64\n",
      " Exproted de_picked data: csi of (1793, 6, 30, 900) as float64\n",
      " Exproted de_picked data: time of (1793, 1, 1) as float64\n",
      " Exproted de_picked data: cimg of (1793, 1, 128, 128) as float64\n",
      " Exproted de_picked data: center of (1793, 1, 2) as float64\n",
      " Exproted de_picked data: bbx of (1793, 1, 4) as float64\n",
      " Exproted de_picked data: depth of (1793, 1, 1) as float64\n",
      " Exproted de_picked data: pd of (1793, 1, 30, 900) as float64\n",
      "04 saving...Done\n",
      "Regrouping...\n",
      "rimg total many length = 6184, total few length = 930\n",
      "csi total many length = 6184, total few length = 930\n",
      "time total many length = 6184, total few length = 930\n",
      "cimg total many length = 6184, total few length = 930\n",
      "center total many length = 6184, total few length = 930\n",
      "depth total many length = 6184, total few length = 930\n",
      "pd total many length = 6184, total few length = 930\n",
      "bbx total many length = 6184, total few length = 930\n",
      "Dividing valid...Divided train length = 4948, valid length = 1236, test length = 930\n",
      "Divided train length = 744, valid length = 186, test length = 6184\n",
      "Done\n",
      "Saving...\n",
      " Saving rimg...\n",
      " Saving csi...\n",
      " Saving time...\n",
      " Saving cimg...\n",
      " Saving center...\n",
      " Saving depth...\n",
      " Saving pd...\n",
      " Saving bbx...\n",
      "All saved!\n"
     ]
    }
   ],
   "source": [
    "dsmaker.reset_data()\n",
    "dsmaker.dataset_name = dataset_name\n",
    "dsmaker.csi_shape = csi_shape\n",
    "dsmaker.make_data()\n",
    "dsmaker.regroup_data()\n",
    "dsmaker.divide_valid()\n",
    "dsmaker.save_data()"
   ]
  },
  {
   "cell_type": "code",
   "execution_count": 258,
   "id": "41ca7982-8359-4fb0-82a9-f23692ca3eea",
   "metadata": {
    "tags": []
   },
   "outputs": [],
   "source": [
    "rx, sub, length = csi_.shape\n",
    "win_len=10\n",
    "aoa = []\n",
    "tof = []\n",
    "for i in range(length - 10):\n",
    "    u1, s1, v1 = np.linalg.svd(csi_[..., i:i + 10].\n",
    "                               reshape(-1, rx, sub * win_len), full_matrices=False)\n",
    "    #aoa_ = np.angle(u1[:, 0, 0].conj() * u1[:, 1, 0]).squeeze()\n",
    "    aoa_ = np.angle(u1[:, 1:, 0].squeeze())\n",
    "    #aoa.append(np.angle(u1[:, 1, 0].conj() * u1[:, 2, 0]).squeeze())\n",
    "    aoa.append(aoa_)\n",
    "    # Interpolate aoa to 30\n",
    "    # aoa = np.angle(u1[:, :, 0])\n",
    "\n",
    "    u2, s2, v2 = np.linalg.svd(csi_[..., i:i + 10].transpose(1, 0, 2).\n",
    "                               reshape(-1, sub, rx * win_len), full_matrices=False)\n",
    "    tof_ = np.angle(u2[:, :-1, 0].conj() * u2[:, 1:, 0]).squeeze()\n",
    "    #tof_ = np.angle(u2[:, :, 0].squeeze())\n",
    "    tof.append(tof_)"
   ]
  },
  {
   "cell_type": "code",
   "execution_count": 259,
   "id": "e820214f-5383-45df-ad80-2b2bc856ac19",
   "metadata": {
    "tags": []
   },
   "outputs": [
    {
     "data": {
      "image/png": "[encoded data removed]",
      "text/plain": [
       "<Figure size 432x288 with 1 Axes>"
      ]
     },
     "metadata": {
      "needs_background": "light"
     },
     "output_type": "display_data"
    }
   ],
   "source": [
    "aoa = np.unwrap(aoa, axis=0)\n",
    "plt.plot(aoa)\n",
    "plt.plot(aoa[:, 1] - aoa[:, 0])\n",
    "plt.show()"
   ]
  },
  {
   "cell_type": "code",
   "execution_count": 262,
   "id": "7232a062-faa1-4b99-9ee7-1465e47e6f25",
   "metadata": {
    "tags": []
   },
   "outputs": [
    {
     "data": {
      "image/png": "[encoded data removed]",
      "text/plain": [
       "<Figure size 432x288 with 1 Axes>"
      ]
     },
     "metadata": {
      "needs_background": "light"
     },
     "output_type": "display_data"
    },
    {
     "data": {
      "image/png": "[encoded data removed]",
      "text/plain": [
       "<Figure size 432x288 with 1 Axes>"
      ]
     },
     "metadata": {
      "needs_background": "light"
     },
     "output_type": "display_data"
    }
   ],
   "source": [
    "#tof = np.unwrap(tof, axis=0)\n",
    "plt.imshow(tof)\n",
    "plt.show()\n",
    "tof = np.unwrap(tof, axis=0)\n",
    "plt.imshow(tof)\n",
    "plt.show()\n"
   ]
  },
  {
   "cell_type": "code",
   "execution_count": null,
   "id": "c6861196-5876-48bb-843d-34bc0b3fac27",
   "metadata": {},
   "outputs": [],
   "source": []
  }
 ],
 "metadata": {
  "kernelspec": {
   "display_name": "Python 3 (ipykernel)",
   "language": "python",
   "name": "python3"
  },
  "language_info": {
   "codemirror_mode": {
    "name": "ipython",
    "version": 3
   },
   "file_extension": ".py",
   "mimetype": "text/x-python",
   "name": "python",
   "nbconvert_exporter": "python",
   "pygments_lexer": "ipython3",
   "version": "3.7.11"
  }
 },
 "nbformat": 4,
 "nbformat_minor": 5
}
