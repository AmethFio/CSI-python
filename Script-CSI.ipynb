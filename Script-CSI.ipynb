{
 "cells": [
  {
   "cell_type": "code",
   "execution_count": 1,
   "id": "2f79dfce-c0d5-4ef3-ab83-bde75fd80a62",
   "metadata": {
    "tags": []
   },
   "outputs": [],
   "source": [
    "import pycsi\n",
    "import sys\n",
    "import os\n",
    "import numpy as np"
   ]
  },
  {
   "cell_type": "code",
   "execution_count": 2,
   "id": "f3aebb03-a1bf-4a04-ba8e-a766e392d1be",
   "metadata": {
    "tags": []
   },
   "outputs": [],
   "source": [
    "class HiddenPrints:\n",
    "    \"\"\"\n",
    "    Hide print lines.\\n\n",
    "    \"\"\"\n",
    "    def __enter__(self):\n",
    "        self._original_stdout = sys.stdout\n",
    "        sys.stdout = open(os.devnull, 'w')\n",
    "\n",
    "    def __exit__(self, exc_type, exc_val, exc_tb):\n",
    "        sys.stdout.close()\n",
    "        sys.stdout = self._original_stdout"
   ]
  },
  {
   "cell_type": "code",
   "execution_count": null,
   "id": "e1857774-75df-4ded-9243-edd56a707980",
   "metadata": {
    "tags": []
   },
   "outputs": [],
   "source": [
    "mycon = pycsi.MyConfigs(5.32, 20)\n",
    "mycon.ntx = 3\n",
    "mycon.tx_rate = 0x1c113\n",
    "mycsi = pycsi.MyCsi(mycon, '0509A01', '../data/0509/csi0509A01.dat')\n",
    "\n",
    "mycsi.load_data(remove_sm=True)\n",
    "print(mycsi.timescale[:10])\n",
    "print(mycsi.timestamps[:10])"
   ]
  },
  {
   "cell_type": "code",
   "execution_count": 5,
   "id": "05af5b79-ecf1-4e0f-9116-c74a0b55e1e5",
   "metadata": {
    "tags": []
   },
   "outputs": [
    {
     "name": "stdout",
     "output_type": "stream",
     "text": [
      "1683623867.845838\n",
      "1683623867.846687\n",
      "1683623867.847591\n",
      "1683623867.848769\n",
      "1683623867.849696\n",
      "1683623867.850685\n",
      "1683623867.851662\n",
      "1683623867.852706\n",
      "1683623867.853688\n",
      "1683623867.854698\n"
     ]
    }
   ],
   "source": [
    "for i in range(10):\n",
    "    print(format(mycsi.timestamps[i], '.6f'))"
   ]
  },
  {
   "cell_type": "code",
   "execution_count": null,
   "id": "961cdd21-2b6f-4210-b516-54061acb6c2f",
   "metadata": {},
   "outputs": [],
   "source": []
  }
 ],
 "metadata": {
  "kernelspec": {
   "display_name": "Python 3 (ipykernel)",
   "language": "python",
   "name": "python3"
  },
  "language_info": {
   "codemirror_mode": {
    "name": "ipython",
    "version": 3
   },
   "file_extension": ".py",
   "mimetype": "text/x-python",
   "name": "python",
   "nbconvert_exporter": "python",
   "pygments_lexer": "ipython3",
   "version": "3.7.11"
  }
 },
 "nbformat": 4,
 "nbformat_minor": 5
}
