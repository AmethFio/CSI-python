{
 "cells": [
  {
   "cell_type": "code",
   "execution_count": 1,
   "id": "2f79dfce-c0d5-4ef3-ab83-bde75fd80a62",
   "metadata": {
    "tags": []
   },
   "outputs": [],
   "source": [
    "import pycsi\n",
    "import sys\n",
    "import os\n",
    "import numpy as np"
   ]
  },
  {
   "cell_type": "code",
   "execution_count": 2,
   "id": "f3aebb03-a1bf-4a04-ba8e-a766e392d1be",
   "metadata": {
    "tags": []
   },
   "outputs": [],
   "source": [
    "class HiddenPrints:\n",
    "    \"\"\"\n",
    "    Hide print lines.\\n\n",
    "    \"\"\"\n",
    "    def __enter__(self):\n",
    "        self._original_stdout = sys.stdout\n",
    "        sys.stdout = open(os.devnull, 'w')\n",
    "\n",
    "    def __exit__(self, exc_type, exc_val, exc_tb):\n",
    "        sys.stdout.close()\n",
    "        sys.stdout = self._original_stdout"
   ]
  },
  {
   "cell_type": "code",
   "execution_count": null,
   "id": "e1857774-75df-4ded-9243-edd56a707980",
   "metadata": {
    "tags": []
   },
   "outputs": [],
   "source": [
    "mycon = pycsi.MyConfigs(5.32, 20)\n",
    "mycon.ntx = 3\n",
    "mycon.tx_rate = 0x1c113\n",
    "mycsi = pycsi.MyCsi(mycon, '0509A01', '../data/0509/csi0509A01.dat')\n",
    "\n",
    "mycsi.load_data(remove_sm=True)\n",
    "print(mycsi.timescale[:10])\n",
    "print(mycsi.timestamps[:10])"
   ]
  },
  {
   "cell_type": "code",
   "execution_count": 5,
   "id": "05af5b79-ecf1-4e0f-9116-c74a0b55e1e5",
   "metadata": {
    "tags": []
   },
   "outputs": [
    {
     "name": "stdout",
     "output_type": "stream",
     "text": [
      "1683623867.845838\n",
      "1683623867.846687\n",
      "1683623867.847591\n",
      "1683623867.848769\n",
      "1683623867.849696\n",
      "1683623867.850685\n",
      "1683623867.851662\n",
      "1683623867.852706\n",
      "1683623867.853688\n",
      "1683623867.854698\n"
     ]
    }
   ],
   "source": [
    "for i in range(10):\n",
    "    print(format(mycsi.timestamps[i], '.6f'))"
   ]
  },
  {
   "cell_type": "code",
   "execution_count": 2,
   "id": "961cdd21-2b6f-4210-b516-54061acb6c2f",
   "metadata": {
    "tags": []
   },
   "outputs": [],
   "source": [
    "import calculate_SNR\n",
    "import numpy as np\n",
    "import csi_loader"
   ]
  },
  {
   "cell_type": "code",
   "execution_count": 3,
   "id": "e35b566a-2d1e-4beb-b187-75c5555b36fc",
   "metadata": {
    "tags": []
   },
   "outputs": [
    {
     "name": "stdout",
     "output_type": "stream",
     "text": [
      "loaded\n",
      "scaled\n",
      "loaded\n",
      "scaled\n",
      "loaded\n",
      "scaled\n",
      "loaded\n",
      "scaled\n"
     ]
    }
   ],
   "source": [
    "A208_csi = csi_loader.load_npy('../dataset/Door_EXP/TrainVer/A208/0709A00-csio.npy')\n",
    "B211_csi = csi_loader.load_npy('../dataset/Door_EXP/TrainVer/B211/0723D00-csio.npy')\n",
    "C605_csi = csi_loader.load_npy('../dataset/Door_EXP/TrainVer/C605/0805D00-csio.npy')\n",
    "A308T_csi = csi_loader.load_npy('../dataset/Door_EXP/TrainVer/A308T/0731D00-csio.npy')"
   ]
  },
  {
   "cell_type": "code",
   "execution_count": 4,
   "id": "417dd700-6a08-496f-8d1e-7e8f8b73279f",
   "metadata": {
    "scrolled": true,
    "tags": []
   },
   "outputs": [
    {
     "name": "stdout",
     "output_type": "stream",
     "text": [
      "(125296, 30, 3, 3)\n",
      "(1573034, 30, 3, 3)\n",
      "(331216, 30, 3, 3)\n",
      "(947479, 30, 3, 3)\n"
     ]
    }
   ],
   "source": [
    "snrs = {0: [], 1: [], 2: [], 3: []}\n",
    "ll = (A208_csi, B211_csi, C605_csi, A308T_csi)\n",
    "\n",
    "for i, csis in enumerate(ll, start=0):\n",
    "    csi = csis[0]\n",
    "    print(csi.shape)\n",
    "    \n",
    "    for packet in csi[:100000]:\n",
    "        packet = packet.transpose(2, 1, 0)\n",
    "        snrs[i].append(calculate_SNR.get_eff_snrs(packet))\n"
   ]
  },
  {
   "cell_type": "code",
   "execution_count": 11,
   "id": "3f31959d-2c4f-4f90-919f-ecdc2658bbc9",
   "metadata": {
    "tags": []
   },
   "outputs": [
    {
     "name": "stdout",
     "output_type": "stream",
     "text": [
      "(100000,)\n",
      "0 23.240311504409345\n",
      "(100000,)\n",
      "1 23.50613429683563\n",
      "(100000,)\n",
      "2 22.990967724649373\n",
      "(100000,)\n",
      "3 22.810119882124646\n"
     ]
    }
   ],
   "source": [
    "for i, snr in snrs.items():\n",
    "    snr = np.array(snr)\n",
    "    mask = np.all(np.isfinite(snr), axis=(1, 2))\n",
    "    print(mask.shape, )\n",
    "    snr_ = snr[mask]\n",
    "    print(i, 10 * np.log10(np.mean(snr_)))"
   ]
  },
  {
   "cell_type": "code",
   "execution_count": null,
   "id": "4c7fe2a4-947e-496f-b22b-782c3c78e833",
   "metadata": {},
   "outputs": [],
   "source": []
  }
 ],
 "metadata": {
  "kernelspec": {
   "display_name": "Python 3 (ipykernel)",
   "language": "python",
   "name": "python3"
  },
  "language_info": {
   "codemirror_mode": {
    "name": "ipython",
    "version": 3
   },
   "file_extension": ".py",
   "mimetype": "text/x-python",
   "name": "python",
   "nbconvert_exporter": "python",
   "pygments_lexer": "ipython3",
   "version": "3.7.11"
  }
 },
 "nbformat": 4,
 "nbformat_minor": 5
}
