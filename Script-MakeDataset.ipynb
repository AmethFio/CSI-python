{
 "cells": [
  {
   "cell_type": "code",
   "execution_count": 12,
   "id": "90798668-2ea6-4c48-bb79-12f84efd1658",
   "metadata": {
    "tags": []
   },
   "outputs": [],
   "source": [
    "import make_dataset as md\n",
    "import manipulate_image as mi\n",
    "import manipulate_dataset as mp\n",
    "from IPython.display import display, clear_output\n",
    "import matplotlib.pyplot as plt\n",
    "import numpy as np"
   ]
  },
  {
   "cell_type": "code",
   "execution_count": 11,
   "id": "a54b50c5-b17f-4fe8-9af2-0985b7f7b9fd",
   "metadata": {
    "scrolled": true,
    "tags": []
   },
   "outputs": [
    {
     "name": "stdout",
     "output_type": "stream",
     "text": [
      "Setting camera stream...Done\n",
      "Setting CSI stream...\n",
      "CSI npy load start... Thu Dec 28 00:50:35 2023\n",
      "loaded\n",
      "scaled\n",
      "Removing sm...Done\n",
      "CSI (186643, 30, 3, 3) load complete Thu Dec 28 00:51:30 2023\n",
      "CSI apply dynamic component extraction: overall-divide versus tx1...Done\n",
      "CSI apply dynamic component extraction: highpass versus rx0...Done\n",
      "Starting exporting image...\n"
     ]
    },
    {
     "data": {
      "application/json": {
       "ascii": false,
       "bar_format": null,
       "colour": null,
       "elapsed": 0.015279531478881836,
       "initial": 0,
       "n": 0,
       "ncols": null,
       "nrows": 0,
       "postfix": null,
       "prefix": "",
       "rate": null,
       "total": 5400,
       "unit": "it",
       "unit_divisor": 1000,
       "unit_scale": false
      },
      "application/vnd.jupyter.widget-view+json": {
       "model_id": "06f14633efee4cb492d4cfa2650084b3",
       "version_major": 2,
       "version_minor": 0
      },
      "text/plain": [
       "  0%|          | 0/5400 [00:00<?, ?it/s]"
      ]
     },
     "metadata": {},
     "output_type": "display_data"
    },
    {
     "name": "stdout",
     "output_type": "stream",
     "text": [
      "Calibrating camera time against local time file...lag= -0.06508312516742283\n",
      "Done\n",
      "Masking...\n"
     ]
    },
    {
     "data": {
      "application/json": {
       "ascii": false,
       "bar_format": null,
       "colour": null,
       "elapsed": 0.014575958251953125,
       "initial": 0,
       "n": 0,
       "ncols": null,
       "nrows": 0,
       "postfix": null,
       "prefix": "",
       "rate": null,
       "total": 5400,
       "unit": "it",
       "unit_divisor": 1000,
       "unit_scale": false
      },
      "application/vnd.jupyter.widget-view+json": {
       "model_id": "a350a39519a0461cb6a84c29f61d8823",
       "version_major": 2,
       "version_minor": 0
      },
      "text/plain": [
       "  0%|          | 0/5400 [00:00<?, ?it/s]"
      ]
     },
     "metadata": {},
     "output_type": "display_data"
    },
    {
     "name": "stdout",
     "output_type": "stream",
     "text": [
      "Starting exporting CSI...\n"
     ]
    },
    {
     "data": {
      "application/json": {
       "ascii": false,
       "bar_format": null,
       "colour": null,
       "elapsed": 0.012507915496826172,
       "initial": 0,
       "n": 0,
       "ncols": null,
       "nrows": 0,
       "postfix": null,
       "prefix": "",
       "rate": null,
       "total": 5400,
       "unit": "it",
       "unit_divisor": 1000,
       "unit_scale": false
      },
      "application/vnd.jupyter.widget-view+json": {
       "model_id": "180011aa6ad74680b20d5bc138a47ac9",
       "version_major": 2,
       "version_minor": 0
      },
      "text/plain": [
       "  0%|          | 0/5400 [00:00<?, ?it/s]"
      ]
     },
     "metadata": {},
     "output_type": "display_data"
    },
    {
     "name": "stdout",
     "output_type": "stream",
     "text": [
      "Slicing...Done\n",
      "Saving...Done\n",
      "Setting camera stream...Done\n",
      "Setting CSI stream...\n",
      "CSI npy load start... Thu Dec 28 01:27:48 2023\n",
      "loaded\n",
      "scaled\n",
      "Removing sm...Done\n",
      "CSI (178280, 30, 3, 3) load complete Thu Dec 28 01:28:41 2023\n",
      "CSI apply dynamic component extraction: overall-divide versus tx1...Done\n",
      "CSI apply dynamic component extraction: highpass versus rx0...Done\n",
      "Starting exporting image...\n"
     ]
    },
    {
     "data": {
      "application/json": {
       "ascii": false,
       "bar_format": null,
       "colour": null,
       "elapsed": 0.01621389389038086,
       "initial": 0,
       "n": 0,
       "ncols": null,
       "nrows": 0,
       "postfix": null,
       "prefix": "",
       "rate": null,
       "total": 5000,
       "unit": "it",
       "unit_divisor": 1000,
       "unit_scale": false
      },
      "application/vnd.jupyter.widget-view+json": {
       "model_id": "7521041d760b468980b2686c9020dd73",
       "version_major": 2,
       "version_minor": 0
      },
      "text/plain": [
       "  0%|          | 0/5000 [00:00<?, ?it/s]"
      ]
     },
     "metadata": {},
     "output_type": "display_data"
    },
    {
     "name": "stdout",
     "output_type": "stream",
     "text": [
      "Calibrating camera time against local time file...lag= -0.10003251504898071\n",
      "Done\n",
      "Masking...\n"
     ]
    },
    {
     "data": {
      "application/json": {
       "ascii": false,
       "bar_format": null,
       "colour": null,
       "elapsed": 0.03140997886657715,
       "initial": 0,
       "n": 0,
       "ncols": null,
       "nrows": 0,
       "postfix": null,
       "prefix": "",
       "rate": null,
       "total": 5000,
       "unit": "it",
       "unit_divisor": 1000,
       "unit_scale": false
      },
      "application/vnd.jupyter.widget-view+json": {
       "model_id": "1db17e2ae4564000a4eb8cea6817da0a",
       "version_major": 2,
       "version_minor": 0
      },
      "text/plain": [
       "  0%|          | 0/5000 [00:00<?, ?it/s]"
      ]
     },
     "metadata": {},
     "output_type": "display_data"
    },
    {
     "name": "stdout",
     "output_type": "stream",
     "text": [
      "Starting exporting CSI...\n"
     ]
    },
    {
     "data": {
      "application/json": {
       "ascii": false,
       "bar_format": null,
       "colour": null,
       "elapsed": 0.013888359069824219,
       "initial": 0,
       "n": 0,
       "ncols": null,
       "nrows": 0,
       "postfix": null,
       "prefix": "",
       "rate": null,
       "total": 5000,
       "unit": "it",
       "unit_divisor": 1000,
       "unit_scale": false
      },
      "application/vnd.jupyter.widget-view+json": {
       "model_id": "8b8c6731304a453a9eece9702dcfcd1f",
       "version_major": 2,
       "version_minor": 0
      },
      "text/plain": [
       "  0%|          | 0/5000 [00:00<?, ?it/s]"
      ]
     },
     "metadata": {},
     "output_type": "display_data"
    },
    {
     "name": "stdout",
     "output_type": "stream",
     "text": [
      "Slicing...Done\n",
      "Saving...Done\n",
      "Setting camera stream...Done\n",
      "Setting CSI stream...\n",
      "CSI npy load start... Thu Dec 28 02:02:20 2023\n",
      "loaded\n",
      "scaled\n",
      "Removing sm...Done\n",
      "CSI (173802, 30, 3, 3) load complete Thu Dec 28 02:03:11 2023\n",
      "CSI apply dynamic component extraction: overall-divide versus tx1...Done\n",
      "CSI apply dynamic component extraction: highpass versus rx0...Done\n",
      "Starting exporting image...\n"
     ]
    },
    {
     "data": {
      "application/json": {
       "ascii": false,
       "bar_format": null,
       "colour": null,
       "elapsed": 0.014968395233154297,
       "initial": 0,
       "n": 0,
       "ncols": null,
       "nrows": 0,
       "postfix": null,
       "prefix": "",
       "rate": null,
       "total": 5100,
       "unit": "it",
       "unit_divisor": 1000,
       "unit_scale": false
      },
      "application/vnd.jupyter.widget-view+json": {
       "model_id": "7554934c8ba348f5bbe615443fc60ed4",
       "version_major": 2,
       "version_minor": 0
      },
      "text/plain": [
       "  0%|          | 0/5100 [00:00<?, ?it/s]"
      ]
     },
     "metadata": {},
     "output_type": "display_data"
    },
    {
     "name": "stdout",
     "output_type": "stream",
     "text": [
      "Calibrating camera time against local time file...lag= -0.13225088638417862\n",
      "Done\n",
      "Masking...\n"
     ]
    },
    {
     "data": {
      "application/json": {
       "ascii": false,
       "bar_format": null,
       "colour": null,
       "elapsed": 0.019431114196777344,
       "initial": 0,
       "n": 0,
       "ncols": null,
       "nrows": 0,
       "postfix": null,
       "prefix": "",
       "rate": null,
       "total": 5100,
       "unit": "it",
       "unit_divisor": 1000,
       "unit_scale": false
      },
      "application/vnd.jupyter.widget-view+json": {
       "model_id": "3782ebaf9edd49aa9d4b5981c0c848a0",
       "version_major": 2,
       "version_minor": 0
      },
      "text/plain": [
       "  0%|          | 0/5100 [00:00<?, ?it/s]"
      ]
     },
     "metadata": {},
     "output_type": "display_data"
    },
    {
     "name": "stdout",
     "output_type": "stream",
     "text": [
      "Starting exporting CSI...\n"
     ]
    },
    {
     "data": {
      "application/json": {
       "ascii": false,
       "bar_format": null,
       "colour": null,
       "elapsed": 0.012589693069458008,
       "initial": 0,
       "n": 0,
       "ncols": null,
       "nrows": 0,
       "postfix": null,
       "prefix": "",
       "rate": null,
       "total": 5100,
       "unit": "it",
       "unit_divisor": 1000,
       "unit_scale": false
      },
      "application/vnd.jupyter.widget-view+json": {
       "model_id": "25fb5d387ff74682984f3e383461f71d",
       "version_major": 2,
       "version_minor": 0
      },
      "text/plain": [
       "  0%|          | 0/5100 [00:00<?, ?it/s]"
      ]
     },
     "metadata": {},
     "output_type": "display_data"
    },
    {
     "name": "stdout",
     "output_type": "stream",
     "text": [
      "Slicing...Done\n",
      "Saving...Done\n",
      "Setting camera stream...Done\n",
      "Setting CSI stream...\n",
      "CSI npy load start... Thu Dec 28 02:37:05 2023\n",
      "loaded\n",
      "scaled\n",
      "Removing sm...Done\n",
      "CSI (211747, 30, 3, 3) load complete Thu Dec 28 02:38:07 2023\n",
      "CSI apply dynamic component extraction: overall-divide versus tx1...Done\n",
      "CSI apply dynamic component extraction: highpass versus rx0...Done\n",
      "Starting exporting image...\n"
     ]
    },
    {
     "data": {
      "application/json": {
       "ascii": false,
       "bar_format": null,
       "colour": null,
       "elapsed": 0.014662027359008789,
       "initial": 0,
       "n": 0,
       "ncols": null,
       "nrows": 0,
       "postfix": null,
       "prefix": "",
       "rate": null,
       "total": 5100,
       "unit": "it",
       "unit_divisor": 1000,
       "unit_scale": false
      },
      "application/vnd.jupyter.widget-view+json": {
       "model_id": "4c64029d0f83471099bb6c3d81dfa490",
       "version_major": 2,
       "version_minor": 0
      },
      "text/plain": [
       "  0%|          | 0/5100 [00:00<?, ?it/s]"
      ]
     },
     "metadata": {},
     "output_type": "display_data"
    },
    {
     "name": "stdout",
     "output_type": "stream",
     "text": [
      "Calibrating camera time against local time file...lag= -0.09882854569192026\n",
      "Done\n",
      "Masking...\n"
     ]
    },
    {
     "data": {
      "application/json": {
       "ascii": false,
       "bar_format": null,
       "colour": null,
       "elapsed": 0.06281280517578125,
       "initial": 0,
       "n": 0,
       "ncols": null,
       "nrows": 0,
       "postfix": null,
       "prefix": "",
       "rate": null,
       "total": 5100,
       "unit": "it",
       "unit_divisor": 1000,
       "unit_scale": false
      },
      "application/vnd.jupyter.widget-view+json": {
       "model_id": "a3510f935e904baaaefcc8c0ed194463",
       "version_major": 2,
       "version_minor": 0
      },
      "text/plain": [
       "  0%|          | 0/5100 [00:00<?, ?it/s]"
      ]
     },
     "metadata": {},
     "output_type": "display_data"
    },
    {
     "name": "stdout",
     "output_type": "stream",
     "text": [
      "Starting exporting CSI...\n"
     ]
    },
    {
     "data": {
      "application/json": {
       "ascii": false,
       "bar_format": null,
       "colour": null,
       "elapsed": 0.013025999069213867,
       "initial": 0,
       "n": 0,
       "ncols": null,
       "nrows": 0,
       "postfix": null,
       "prefix": "",
       "rate": null,
       "total": 5100,
       "unit": "it",
       "unit_divisor": 1000,
       "unit_scale": false
      },
      "application/vnd.jupyter.widget-view+json": {
       "model_id": "5a43c1a4fecb48e09889089afef28391",
       "version_major": 2,
       "version_minor": 0
      },
      "text/plain": [
       "  0%|          | 0/5100 [00:00<?, ?it/s]"
      ]
     },
     "metadata": {},
     "output_type": "display_data"
    },
    {
     "name": "stdout",
     "output_type": "stream",
     "text": [
      "Slicing...Done\n",
      "Saving...Done\n"
     ]
    }
   ],
   "source": [
    "%matplotlib inline\n",
    "date = '0509'\n",
    "\n",
    "subs = [('01', 5400),\n",
    "       ('02', 5000), ('03', 5100), ('04', 5100)]\n",
    "\n",
    "configs = md.MyConfigsDM(img_size=(226, 128))\n",
    "configs.tx_rate = 0x1c113\n",
    "configs.ntx = 3\n",
    "\n",
    "for (sub, length) in subs:\n",
    "\n",
    "    path = {'bag': f\"../sense/{date}/{sub}.bag\",\n",
    "            'lt': f\"../sense/{date}/{sub}_timestamps.txt\",\n",
    "            'csi': f\"../npsave/{date}/{date}A{sub}-csio.npy\",\n",
    "            'ct': f\"../data/{date}/csi{date}A{sub}_time_mod.txt\",\n",
    "            'label': f\"../sense/{date}/{sub}_labels.csv\"\n",
    "               }\n",
    "\n",
    "    mkdata = md.MyDataMaker(configs=configs, paths=path, total_frames=length)\n",
    "    mkdata.jupyter = True\n",
    "    mkdata.csi_stream.extract_dynamic(mode='overall-divide', ref='tx', ref_antenna=1)\n",
    "    mkdata.csi_stream.extract_dynamic(mode='highpass')\n",
    "    mkdata.export_image(show_img=False)\n",
    "    mkdata.depth_mask(0.7)\n",
    "    mkdata.export_csi(dynamic_csi=False, pick_tx=0)\n",
    "    #mkdata.lookup_image()\n",
    "    mkdata.slice_by_label()\n",
    "\n",
    "    #mkdata.playback_image()\n",
    "    mkdata.save_dataset('../dataset/0509/make06', sub + '_rmk', 'csi', 'img')"
   ]
  },
  {
   "cell_type": "code",
   "execution_count": 3,
   "id": "feb06a50-f992-4c24-b9d5-d331f1b4d089",
   "metadata": {
    "tags": []
   },
   "outputs": [
    {
     "data": {
      "image/png": "[encoded data removed]",
      "text/plain": [
       "<Figure size 432x288 with 2 Axes>"
      ]
     },
     "metadata": {
      "needs_background": "light"
     },
     "output_type": "display_data"
    }
   ],
   "source": [
    "fig = plt.figure()\n",
    "ax = fig.subplots(1, 2)\n",
    "ax = ax.flatten()\n",
    "ax[0].plot(np.abs(mkdata.csi_stream.csi[:, 0, 0, 0]))\n",
    "ax[0].set_title('amplitude')\n",
    "ax[1].plot(np.angle(mkdata.csi_stream.csi[:, 0, 0, 0]))\n",
    "ax[1].set_title('phase')\n",
    "plt.show()"
   ]
  },
  {
   "cell_type": "code",
   "execution_count": 5,
   "id": "cc3451f7-0208-402a-b6e9-75d534335ed4",
   "metadata": {
    "tags": []
   },
   "outputs": [
    {
     "name": "stdout",
     "output_type": "stream",
     "text": [
      "CSI apply dynamic component extraction: overall-divide versus tx1...Done\n",
      "CSI apply dynamic component extraction: highpass versus rx0...Done\n",
      "Starting exporting CSI...\n"
     ]
    },
    {
     "data": {
      "application/json": {
       "ascii": false,
       "bar_format": null,
       "colour": null,
       "elapsed": 0.016077280044555664,
       "initial": 0,
       "n": 0,
       "ncols": null,
       "nrows": 0,
       "postfix": null,
       "prefix": "",
       "rate": null,
       "total": 5400,
       "unit": "it",
       "unit_divisor": 1000,
       "unit_scale": false
      },
      "application/vnd.jupyter.widget-view+json": {
       "model_id": "3ab79ddfedf94c3c87035b53a3de27eb",
       "version_major": 2,
       "version_minor": 0
      },
      "text/plain": [
       "  0%|          | 0/5400 [00:00<?, ?it/s]"
      ]
     },
     "metadata": {},
     "output_type": "display_data"
    }
   ],
   "source": [
    "mkdata.csi_stream.extract_dynamic(mode='overall-divide', ref='tx', ref_antenna=1)\n",
    "mkdata.csi_stream.extract_dynamic(mode='highpass')\n",
    "mkdata.export_csi(dynamic_csi=False, pick_tx=0)"
   ]
  },
  {
   "cell_type": "code",
   "execution_count": 12,
   "id": "137f5070-c6c3-4314-955b-65376d6982e7",
   "metadata": {
    "tags": []
   },
   "outputs": [
    {
     "data": {
      "image/png": "[encoded data removed]",
      "text/plain": [
       "<Figure size 432x288 with 2 Axes>"
      ]
     },
     "metadata": {
      "needs_background": "light"
     },
     "output_type": "display_data"
    }
   ],
   "source": [
    "fig = plt.figure()\n",
    "ax = fig.subplots(1, 2)\n",
    "ax = ax.flatten()\n",
    "ax[0].plot(mkdata.result['csi'][:, 0, 0, 0])\n",
    "ax[0].set_title('amplitude')\n",
    "ax[1].plot(mkdata.result['csi'][:, 1, 0, 0])\n",
    "ax[1].set_title('phase')\n",
    "plt.show()"
   ]
  },
  {
   "cell_type": "code",
   "execution_count": 7,
   "id": "98d9d856-862c-49b8-933a-15e14ca7f56f",
   "metadata": {
    "tags": []
   },
   "outputs": [
    {
     "name": "stdout",
     "output_type": "stream",
     "text": [
      "Setting CSI stream...\n",
      "CSI npy load start... Thu Dec 28 00:28:49 2023\n",
      "loaded\n",
      "scaled\n",
      "Removing sm...Done\n",
      "CSI (186643, 30, 3, 3) load complete Thu Dec 28 00:29:43 2023\n"
     ]
    }
   ],
   "source": [
    "csi = mkdata.__setup_csi_stream__()"
   ]
  },
  {
   "cell_type": "code",
   "execution_count": 8,
   "id": "ef2646ac-f73e-490f-afac-041ed63a1f78",
   "metadata": {
    "tags": []
   },
   "outputs": [
    {
     "data": {
      "image/png": "[encoded data removed]",
      "text/plain": [
       "<Figure size 432x288 with 2 Axes>"
      ]
     },
     "metadata": {
      "needs_background": "light"
     },
     "output_type": "display_data"
    }
   ],
   "source": [
    "fig = plt.figure()\n",
    "ax = fig.subplots(1, 2)\n",
    "ax = ax.flatten()\n",
    "ax[0].plot(np.abs(csi.csi[:, 0, 0, 0]))\n",
    "ax[0].set_title('amplitude')\n",
    "ax[1].plot(np.angle(csi.csi[:, 0, 0, 0]))\n",
    "ax[1].set_title('phase')\n",
    "plt.show()"
   ]
  },
  {
   "cell_type": "code",
   "execution_count": 9,
   "id": "b95774f6-46c1-42a6-b190-92c9c3a8b872",
   "metadata": {
    "tags": []
   },
   "outputs": [
    {
     "name": "stdout",
     "output_type": "stream",
     "text": [
      "CSI apply dynamic component extraction: overall-divide versus tx1...Done\n",
      "CSI apply dynamic component extraction: highpass versus rx0...Done\n"
     ]
    }
   ],
   "source": [
    "csi.extract_dynamic(mode='overall-divide', ref='tx', ref_antenna=1)\n",
    "csi.extract_dynamic(mode='highpass')"
   ]
  },
  {
   "cell_type": "code",
   "execution_count": 10,
   "id": "9a7151ec-086d-4f1b-8712-44f1eee1c0b8",
   "metadata": {
    "tags": []
   },
   "outputs": [
    {
     "data": {
      "image/png": "[encoded data removed]",
      "text/plain": [
       "<Figure size 432x288 with 2 Axes>"
      ]
     },
     "metadata": {
      "needs_background": "light"
     },
     "output_type": "display_data"
    }
   ],
   "source": [
    "fig = plt.figure()\n",
    "ax = fig.subplots(1, 2)\n",
    "ax = ax.flatten()\n",
    "ax[0].plot(np.abs(csi.csi[:, 0, 0, 0]))\n",
    "ax[0].set_title('amplitude')\n",
    "ax[1].plot(np.angle(csi.csi[:, 0, 0, 0]))\n",
    "ax[1].set_title('phase')\n",
    "plt.show()"
   ]
  },
  {
   "cell_type": "code",
   "execution_count": 14,
   "id": "c7f0a67a-052e-4b43-89bc-e6e2675dfbac",
   "metadata": {
    "tags": []
   },
   "outputs": [
    {
     "name": "stdout",
     "output_type": "stream",
     "text": [
      "01\n",
      "Loading images...Complete!\n",
      "Labeling bounding boxes...Complete!\n",
      "Starting exporting image...\n"
     ]
    },
    {
     "name": "stderr",
     "output_type": "stream",
     "text": [
      "100% 2479/2479 [02:19<00:00, 17.71it/s]\n"
     ]
    },
    {
     "name": "stdout",
     "output_type": "stream",
     "text": [
      "Generation complete!\n",
      "Saved raw_bbx\n",
      "Saved gen_img\n",
      "02\n",
      "Loading images...Complete!\n",
      "Labeling bounding boxes...Complete!\n",
      "Starting exporting image...\n"
     ]
    },
    {
     "name": "stderr",
     "output_type": "stream",
     "text": [
      "100% 3083/3083 [03:34<00:00, 14.35it/s]\n"
     ]
    },
    {
     "name": "stdout",
     "output_type": "stream",
     "text": [
      "Generation complete!\n",
      "Saved raw_bbx\n",
      "Saved gen_img\n",
      "03\n",
      "Loading images...Complete!\n",
      "Labeling bounding boxes...Complete!\n",
      "Starting exporting image...\n"
     ]
    },
    {
     "name": "stderr",
     "output_type": "stream",
     "text": [
      "100% 2456/2456 [02:16<00:00, 18.01it/s]\n"
     ]
    },
    {
     "name": "stdout",
     "output_type": "stream",
     "text": [
      "Generation complete!\n",
      "Saved raw_bbx\n",
      "Saved gen_img\n",
      "04\n",
      "Loading images...Complete!\n",
      "Labeling bounding boxes...Complete!\n",
      "Starting exporting image...\n"
     ]
    },
    {
     "name": "stderr",
     "output_type": "stream",
     "text": [
      "100% 2972/2972 [03:20<00:00, 14.85it/s]\n"
     ]
    },
    {
     "name": "stdout",
     "output_type": "stream",
     "text": [
      "Generation complete!\n",
      "Saved raw_bbx\n",
      "Saved gen_img\n"
     ]
    }
   ],
   "source": [
    "names = ('01', '02', '03', '04')\n",
    "for name in names:\n",
    "    print(name)\n",
    "    gen = mi.ImageGen(name)\n",
    "    gen.load_images(f\"../dataset/0509/make06/{name}_rmk_img.npy\")\n",
    "    gen.bounding_box(min_area=0, show=False)\n",
    "    gen.align_to_center(unified_size=True)\n",
    "    #gen.print_len()\n",
    "    gen.save('../dataset/0509/make06-resize/', save_terms=('raw_bbx', 'gen_img'))\n",
    "    #gen.view_generation()"
   ]
  },
  {
   "cell_type": "code",
   "execution_count": 15,
   "id": "357e57bd-b9e8-4f82-b4f3-5ffe4fe1986c",
   "metadata": {
    "tags": []
   },
   "outputs": [],
   "source": []
  },
  {
   "cell_type": "code",
   "execution_count": 17,
   "id": "1fc8dfc7-2dcf-45b3-bddb-aaeb325b4293",
   "metadata": {
    "tags": []
   },
   "outputs": [
    {
     "data": {
      "image/png": "[encoded data removed]",
      "text/plain": [
       "<Figure size 432x288 with 1 Axes>"
      ]
     },
     "metadata": {
      "needs_background": "light"
     },
     "output_type": "display_data"
    },
    {
     "name": "stdout",
     "output_type": "stream",
     "text": [
      "(2479, 2, 90, 100)\n",
      "float64\n"
     ]
    },
    {
     "data": {
      "image/png": "[encoded data removed]",
      "text/plain": [
       "<Figure size 432x288 with 1 Axes>"
      ]
     },
     "metadata": {
      "needs_background": "light"
     },
     "output_type": "display_data"
    },
    {
     "name": "stdout",
     "output_type": "stream",
     "text": [
      "(3083, 2, 90, 100)\n",
      "float64\n"
     ]
    },
    {
     "data": {
      "image/png": "[encoded data removed]",
      "text/plain": [
       "<Figure size 432x288 with 1 Axes>"
      ]
     },
     "metadata": {
      "needs_background": "light"
     },
     "output_type": "display_data"
    },
    {
     "name": "stdout",
     "output_type": "stream",
     "text": [
      "(2456, 2, 90, 100)\n",
      "float64\n"
     ]
    },
    {
     "data": {
      "image/png": "[encoded data removed]",
      "text/plain": [
       "<Figure size 432x288 with 1 Axes>"
      ]
     },
     "metadata": {
      "needs_background": "light"
     },
     "output_type": "display_data"
    },
    {
     "name": "stdout",
     "output_type": "stream",
     "text": [
      "(2972, 2, 90, 100)\n",
      "float64\n"
     ]
    }
   ],
   "source": [
    "names = ('01', '02', '03', '04')\n",
    "for name in names:\n",
    "    md.asx(f\"../dataset/0509/make06/{name}_rmk_csi.npy\")"
   ]
  },
  {
   "cell_type": "code",
   "execution_count": 18,
   "id": "4fd51d5e-ad52-4e3a-8d36-e0d8ef77f09d",
   "metadata": {
    "tags": []
   },
   "outputs": [
    {
     "name": "stdout",
     "output_type": "stream",
     "text": [
      "01_rmk_csi.npy (2479, 2, 90, 100)\n",
      "01_rmk_img.npy (2479, 128, 226)\n",
      "02_rmk_csi.npy (3083, 2, 90, 100)\n",
      "02_rmk_img.npy (3083, 128, 226)\n",
      "03_rmk_csi.npy (2456, 2, 90, 100)\n",
      "03_rmk_img.npy (2456, 128, 226)\n",
      "04_rmk_csi.npy (2972, 2, 90, 100)\n",
      "04_rmk_img.npy (2972, 128, 226)\n",
      "csi 10990\n",
      "img 10990\n",
      "All saved!\n"
     ]
    }
   ],
   "source": [
    "md.regroup('../dataset/0509/make06/', '../dataset/0509/make06-finished/', ('01', '02', '03', '04'))"
   ]
  },
  {
   "cell_type": "code",
   "execution_count": 13,
   "id": "7d5f59cf-adfd-412a-9665-5395602332c8",
   "metadata": {
    "tags": []
   },
   "outputs": [],
   "source": [
    "results = {'img': (1, 1, 128, 128),\n",
    "           'bbx': (1, 4)}"
   ]
  },
  {
   "cell_type": "code",
   "execution_count": 15,
   "id": "f825279f-274d-4c7c-827e-0a3a2e5c2876",
   "metadata": {
    "tags": []
   },
   "outputs": [
    {
     "name": "stdout",
     "output_type": "stream",
     "text": [
      "Loaded 01_raw_bbx.npy of (2479, 4)\n",
      "Loaded 01_gen_img.npy of (2479, 128, 128)\n",
      "Loaded 02_raw_bbx.npy of (3083, 4)\n",
      "Loaded 02_gen_img.npy of (3083, 128, 128)\n",
      "Loaded 03_raw_bbx.npy of (2456, 4)\n",
      "Loaded 03_gen_img.npy of (2456, 128, 128)\n",
      "Loaded 04_raw_bbx.npy of (2972, 4)\n",
      "Loaded 04_gen_img.npy of (2972, 128, 128)\n",
      "All loaded!\n",
      "Saved img of len 10990\n",
      "All saved!\n",
      "Saved bbx of len 10990\n",
      "All saved!\n"
     ]
    }
   ],
   "source": [
    "rg = mp.Regrouper('../dataset/0509/make06-resize/', '../dataset/0509/make06-finished/', ('01', '02', '03', '04'), results)\n",
    "rg.load()\n",
    "rg.regroup()"
   ]
  },
  {
   "cell_type": "code",
   "execution_count": 16,
   "id": "cb6723b0-092f-4d9e-b014-5bbe7de6b82e",
   "metadata": {
    "tags": []
   },
   "outputs": [
    {
     "data": {
      "image/png": "[encoded data removed]",
      "text/plain": [
       "<Figure size 432x288 with 1 Axes>"
      ]
     },
     "metadata": {
      "needs_background": "light"
     },
     "output_type": "display_data"
    },
    {
     "name": "stdout",
     "output_type": "stream",
     "text": [
      "(10990, 2, 90, 100)\n",
      "float64\n"
     ]
    }
   ],
   "source": [
    "mp.asx(f\"../dataset/0509/make06-finished/csi.npy\")"
   ]
  },
  {
   "cell_type": "code",
   "execution_count": null,
   "id": "87bdc88e-2448-4a2c-b1f8-152e58ad27d0",
   "metadata": {},
   "outputs": [],
   "source": []
  }
 ],
 "metadata": {
  "kernelspec": {
   "display_name": "Python 3 (ipykernel)",
   "language": "python",
   "name": "python3"
  },
  "language_info": {
   "codemirror_mode": {
    "name": "ipython",
    "version": 3
   },
   "file_extension": ".py",
   "mimetype": "text/x-python",
   "name": "python",
   "nbconvert_exporter": "python",
   "pygments_lexer": "ipython3",
   "version": "3.7.11"
  }
 },
 "nbformat": 4,
 "nbformat_minor": 5
}
