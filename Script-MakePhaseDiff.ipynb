{
 "cells": [
  {
   "cell_type": "code",
   "execution_count": 8,
   "id": "1eb4e5d5-1f05-476b-a9b9-5d2cbcd0e9a2",
   "metadata": {
    "tags": []
   },
   "outputs": [],
   "source": [
    "from IPython.display import display, clear_output\n",
    "import matplotlib.pyplot as plt\n",
    "import numpy as np\n",
    "import os"
   ]
  },
  {
   "cell_type": "code",
   "execution_count": 5,
   "id": "a8b28f06-d345-456e-a421-0d3927ebf15f",
   "metadata": {
    "tags": []
   },
   "outputs": [],
   "source": [
    "class PhaseDiff:\n",
    "    def __init__(self, in_path, out_path):\n",
    "        self.in_path = in_path\n",
    "        self.out_path = out_path\n",
    "        data = np.load(self.in_path, mmap_mode='r')\n",
    "        print(f\"Loaded file of {data.shape} as {data.dtype}\")\n",
    "        csi = data.reshape(-1, 2, 3, 30, 30)\n",
    "        real = csi[:, 0, ...]\n",
    "        imag = csi[:, 1, ...]\n",
    "        self.csi = (np.squeeze(real) + 1.j * np.squeeze(imag))\n",
    "        self.result = {'AoA': np.zeros(self.csi.shape[0]),\n",
    "                       'ToF': np.zeros(self.csi.shape[0])}\n",
    "\n",
    "    def svd(self, mode='aoa'):\n",
    "        print(f\"Calculating {mode}...\", end='')\n",
    "        if mode == 'aoa':\n",
    "            u, s, v = np.linalg.svd(self.csi.reshape(-1, 3, 30 * 30), full_matrices=False)\n",
    "            self.result['AoA'] = np.angle(np.squeeze(u[:, 0, 0]).conj() * np.squeeze(u[:, 1, 0]))\n",
    "        elif mode == 'tof':\n",
    "            u, s, v = np.linalg.svd(self.csi.transpose(0, 2, 1, 3).reshape(-1, 30, 3 * 30), full_matrices=False)\n",
    "            self.result['ToF'] = np.average(np.angle(np.squeeze(u[:, :-1, 0])).conj() * np.squeeze(u[:, 1:, 0]), axis=-1)\n",
    "        else:\n",
    "            raise Exception('Please specify mode = \\'aoa\\' or \\'tof\\'.')\n",
    "        print(\"Done!\")\n",
    "\n",
    "    def view(self):\n",
    "        plt.subplot(1, 2, 1)\n",
    "        plt.plot(self.result['AoA'][:500])\n",
    "        plt.title(\"Estimated AoA\")\n",
    "        plt.subplot(1, 2, 2)\n",
    "        plt.plot(self.result['ToF'][:500])\n",
    "        plt.title(\"Estimated ToF\")\n",
    "        plt.show()\n",
    "\n",
    "    def save(self):\n",
    "        if not os.path.exists(self.out_path):\n",
    "            os.makedirs(self.out_path)\n",
    "        np.save(f\"{self.out_path}pd.npy\", np.concatenate(\n",
    "            (self.result['AoA'][np.newaxis, ...], self.result['ToF'][np.newaxis, ...]), axis=0))\n",
    "        print(\"All saved!\")\n"
   ]
  },
  {
   "cell_type": "code",
   "execution_count": 6,
   "id": "8e7436c4-25b9-4eef-a0ad-66b75032b186",
   "metadata": {
    "tags": []
   },
   "outputs": [
    {
     "name": "stdout",
     "output_type": "stream",
     "text": [
      "Loaded file of (10990, 6, 30, 30) as float64\n",
      "Calculating aoa...Done!\n",
      "Calculating tof...Done!\n"
     ]
    },
    {
     "data": {
      "image/png": "[encoded data removed]",
      "text/plain": [
       "<Figure size 432x288 with 2 Axes>"
      ]
     },
     "metadata": {
      "needs_background": "light"
     },
     "output_type": "display_data"
    }
   ],
   "source": [
    "phasediff = PhaseDiff('../dataset/0509/make14-finished/csi.npy', '../dataset/0509/make14-finished/')\n",
    "phasediff.svd('aoa')\n",
    "phasediff.svd('tof')\n",
    "phasediff.view()"
   ]
  },
  {
   "cell_type": "code",
   "execution_count": 9,
   "id": "e2dae286-7919-43fc-ae08-4daa04710754",
   "metadata": {
    "tags": []
   },
   "outputs": [
    {
     "name": "stdout",
     "output_type": "stream",
     "text": [
      "All saved!\n"
     ]
    }
   ],
   "source": [
    "phasediff.save()"
   ]
  },
  {
   "cell_type": "code",
   "execution_count": 10,
   "id": "7d00abb8-5158-4b2d-a9fc-5b69837a36c9",
   "metadata": {
    "tags": []
   },
   "outputs": [
    {
     "name": "stdout",
     "output_type": "stream",
     "text": [
      "(2, 10990)\n"
     ]
    }
   ],
   "source": [
    "temp4 = np.load(f\"../dataset/0509/make14-finished/pd.npy\", mmap_mode='r')\n",
    "print(temp4.shape)"
   ]
  },
  {
   "cell_type": "code",
   "execution_count": null,
   "id": "4bb5d0cd-79a7-4803-8b28-9e960bf201e3",
   "metadata": {},
   "outputs": [],
   "source": [
    "tmp = temp4.reshape(-1, 2, 3, 30, 30)\n",
    "from scipy import signal\n",
    "tmp_ = tmp[:, 0, ...] * np.exp(1.j * tmp[:, 1, ...])\n",
    "\n",
    "tmp_r = signal.savgol_filter(np.real(tmp_), 21, 3, axis=-1) # denoise for real part\n",
    "tmp_i = signal.savgol_filter(np.imag(tmp_), 21, 3, axis=-1) # denoise for imag part\n",
    "tmp__ = np.concatenate((tmp_r, tmp_i), axis=1)\n",
    "print(tmp__.shape)"
   ]
  },
  {
   "cell_type": "code",
   "execution_count": null,
   "id": "84ccba2d-565b-486d-b1b6-3ea9a3593bd9",
   "metadata": {},
   "outputs": [],
   "source": [
    "np.save('../dataset/0509/make14-filtered/csi.npy', tmp__)"
   ]
  }
 ],
 "metadata": {
  "kernelspec": {
   "display_name": "Python 3 (ipykernel)",
   "language": "python",
   "name": "python3"
  },
  "language_info": {
   "codemirror_mode": {
    "name": "ipython",
    "version": 3
   },
   "file_extension": ".py",
   "mimetype": "text/x-python",
   "name": "python",
   "nbconvert_exporter": "python",
   "pygments_lexer": "ipython3",
   "version": "3.7.11"
  }
 },
 "nbformat": 4,
 "nbformat_minor": 5
}
