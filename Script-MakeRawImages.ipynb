{
 "cells": [
  {
   "cell_type": "code",
   "execution_count": 1,
   "id": "cfdd2e90-bacf-409a-a699-2a9d71443eae",
   "metadata": {
    "tags": []
   },
   "outputs": [],
   "source": [
    "import make_dataset_v02 as md\n",
    "import manipulate_image as mi\n",
    "import manipulate_dataset as mp\n",
    "from IPython.display import display, clear_output\n",
    "from pycsi import MyConfigs\n",
    "import matplotlib.pyplot as plt\n",
    "import numpy as np"
   ]
  },
  {
   "cell_type": "code",
   "execution_count": 2,
   "id": "3e88ea27-a745-4f23-8866-35a276971253",
   "metadata": {
    "tags": []
   },
   "outputs": [
    {
     "name": "stdout",
     "output_type": "stream",
     "text": [
      "Setting camera stream...Done\n",
      "Loading CSI...\n",
      "CSI npy load start... Wed Feb 14 17:52:57 2024\n",
      "loaded\n",
      "scaled\n",
      "Removing sm...Done\n",
      "CSI (186643, 30, 3, 3) load complete Wed Feb 14 17:53:50 2024\n",
      "Loading label...Done\n",
      "Masking...\n"
     ]
    },
    {
     "name": "stderr",
     "output_type": "stream",
     "text": [
      "/home/bob/datastore/CSI-python/make_dataset_v02.py:512: RuntimeWarning: invalid value encountered in true_divide\n",
      "  plt.imshow(threshold / np.max(threshold))\n"
     ]
    },
    {
     "data": {
      "image/png": "[encoded data removed]",
      "text/plain": [
       "<Figure size 432x288 with 1 Axes>"
      ]
     },
     "metadata": {
      "needs_background": "light"
     },
     "output_type": "display_data"
    },
    {
     "data": {
      "application/json": {
       "ascii": false,
       "bar_format": null,
       "colour": null,
       "elapsed": 0.010394096374511719,
       "initial": 0,
       "n": 0,
       "ncols": null,
       "nrows": 0,
       "postfix": null,
       "prefix": "",
       "rate": null,
       "total": 5400,
       "unit": "it",
       "unit_divisor": 1000,
       "unit_scale": false
      },
      "application/vnd.jupyter.widget-view+json": {
       "model_id": "3a0c5b42e8ea476fa88104d2694859b5",
       "version_major": 2,
       "version_minor": 0
      },
      "text/plain": [
       "  0%|          | 0/5400 [00:00<?, ?it/s]"
      ]
     },
     "metadata": {},
     "output_type": "display_data"
    },
    {
     "name": "stdout",
     "output_type": "stream",
     "text": [
      "Done\n",
      "Starting exporting image...\n",
      "Setting camera stream...Done\n"
     ]
    },
    {
     "data": {
      "application/json": {
       "ascii": false,
       "bar_format": null,
       "colour": null,
       "elapsed": 0.018374204635620117,
       "initial": 0,
       "n": 0,
       "ncols": null,
       "nrows": 0,
       "postfix": null,
       "prefix": "",
       "rate": null,
       "total": 5400,
       "unit": "it",
       "unit_divisor": 1000,
       "unit_scale": false
      },
      "application/vnd.jupyter.widget-view+json": {
       "model_id": "5e92741ddbbd497ba36f0bef7c7e211b",
       "version_major": 2,
       "version_minor": 0
      },
      "text/plain": [
       "  0%|          | 0/5400 [00:00<?, ?it/s]"
      ]
     },
     "metadata": {},
     "output_type": "display_data"
    },
    {
     "name": "stdout",
     "output_type": "stream",
     "text": [
      "Done\n",
      "Setting camera stream...Done\n",
      "Loading CSI...\n",
      "CSI npy load start... Wed Feb 14 18:28:24 2024\n",
      "loaded\n",
      "scaled\n",
      "Removing sm...Done\n",
      "CSI (178280, 30, 3, 3) load complete Wed Feb 14 18:29:14 2024\n",
      "Loading label...Done\n",
      "Masking...\n"
     ]
    },
    {
     "data": {
      "image/png": "[encoded data removed]",
      "text/plain": [
       "<Figure size 432x288 with 1 Axes>"
      ]
     },
     "metadata": {
      "needs_background": "light"
     },
     "output_type": "display_data"
    },
    {
     "data": {
      "application/json": {
       "ascii": false,
       "bar_format": null,
       "colour": null,
       "elapsed": 0.013623237609863281,
       "initial": 0,
       "n": 0,
       "ncols": null,
       "nrows": 0,
       "postfix": null,
       "prefix": "",
       "rate": null,
       "total": 5000,
       "unit": "it",
       "unit_divisor": 1000,
       "unit_scale": false
      },
      "application/vnd.jupyter.widget-view+json": {
       "model_id": "53201857985f4e9ea73761cbd6123691",
       "version_major": 2,
       "version_minor": 0
      },
      "text/plain": [
       "  0%|          | 0/5000 [00:00<?, ?it/s]"
      ]
     },
     "metadata": {},
     "output_type": "display_data"
    },
    {
     "name": "stdout",
     "output_type": "stream",
     "text": [
      "Done\n",
      "Starting exporting image...\n",
      "Setting camera stream...Done\n"
     ]
    },
    {
     "data": {
      "application/json": {
       "ascii": false,
       "bar_format": null,
       "colour": null,
       "elapsed": 0.01749110221862793,
       "initial": 0,
       "n": 0,
       "ncols": null,
       "nrows": 0,
       "postfix": null,
       "prefix": "",
       "rate": null,
       "total": 5000,
       "unit": "it",
       "unit_divisor": 1000,
       "unit_scale": false
      },
      "application/vnd.jupyter.widget-view+json": {
       "model_id": "2fd5b0628a7e4956bf68d7c79e479955",
       "version_major": 2,
       "version_minor": 0
      },
      "text/plain": [
       "  0%|          | 0/5000 [00:00<?, ?it/s]"
      ]
     },
     "metadata": {},
     "output_type": "display_data"
    },
    {
     "name": "stdout",
     "output_type": "stream",
     "text": [
      "Done\n",
      "Setting camera stream...Done\n",
      "Loading CSI...\n",
      "CSI npy load start... Wed Feb 14 19:00:58 2024\n",
      "loaded\n",
      "scaled\n",
      "Removing sm...Done\n",
      "CSI (173802, 30, 3, 3) load complete Wed Feb 14 19:01:47 2024\n",
      "Loading label...Done\n",
      "Masking...\n"
     ]
    },
    {
     "data": {
      "image/png": "[encoded data removed]",
      "text/plain": [
       "<Figure size 432x288 with 1 Axes>"
      ]
     },
     "metadata": {
      "needs_background": "light"
     },
     "output_type": "display_data"
    },
    {
     "data": {
      "application/json": {
       "ascii": false,
       "bar_format": null,
       "colour": null,
       "elapsed": 0.013239860534667969,
       "initial": 0,
       "n": 0,
       "ncols": null,
       "nrows": 0,
       "postfix": null,
       "prefix": "",
       "rate": null,
       "total": 5100,
       "unit": "it",
       "unit_divisor": 1000,
       "unit_scale": false
      },
      "application/vnd.jupyter.widget-view+json": {
       "model_id": "9a4be3e5bbbc42528202bdfaf449e631",
       "version_major": 2,
       "version_minor": 0
      },
      "text/plain": [
       "  0%|          | 0/5100 [00:00<?, ?it/s]"
      ]
     },
     "metadata": {},
     "output_type": "display_data"
    },
    {
     "name": "stdout",
     "output_type": "stream",
     "text": [
      "Done\n",
      "Starting exporting image...\n",
      "Setting camera stream...Done\n"
     ]
    },
    {
     "data": {
      "application/json": {
       "ascii": false,
       "bar_format": null,
       "colour": null,
       "elapsed": 0.017290115356445312,
       "initial": 0,
       "n": 0,
       "ncols": null,
       "nrows": 0,
       "postfix": null,
       "prefix": "",
       "rate": null,
       "total": 5100,
       "unit": "it",
       "unit_divisor": 1000,
       "unit_scale": false
      },
      "application/vnd.jupyter.widget-view+json": {
       "model_id": "64782c79ec6b4b71877be3c14f7451cb",
       "version_major": 2,
       "version_minor": 0
      },
      "text/plain": [
       "  0%|          | 0/5100 [00:00<?, ?it/s]"
      ]
     },
     "metadata": {},
     "output_type": "display_data"
    },
    {
     "name": "stdout",
     "output_type": "stream",
     "text": [
      "Done\n",
      "Setting camera stream...Done\n",
      "Loading CSI...\n",
      "CSI npy load start... Wed Feb 14 19:34:02 2024\n",
      "loaded\n",
      "scaled\n",
      "Removing sm...Done\n",
      "CSI (211747, 30, 3, 3) load complete Wed Feb 14 19:35:03 2024\n",
      "Loading label...Done\n",
      "Masking...\n"
     ]
    },
    {
     "data": {
      "image/png": "[encoded data removed]",
      "text/plain": [
       "<Figure size 432x288 with 1 Axes>"
      ]
     },
     "metadata": {
      "needs_background": "light"
     },
     "output_type": "display_data"
    },
    {
     "data": {
      "application/json": {
       "ascii": false,
       "bar_format": null,
       "colour": null,
       "elapsed": 0.014238595962524414,
       "initial": 0,
       "n": 0,
       "ncols": null,
       "nrows": 0,
       "postfix": null,
       "prefix": "",
       "rate": null,
       "total": 5100,
       "unit": "it",
       "unit_divisor": 1000,
       "unit_scale": false
      },
      "application/vnd.jupyter.widget-view+json": {
       "model_id": "2f4802a80eb2414088f594f59787e8c7",
       "version_major": 2,
       "version_minor": 0
      },
      "text/plain": [
       "  0%|          | 0/5100 [00:00<?, ?it/s]"
      ]
     },
     "metadata": {},
     "output_type": "display_data"
    },
    {
     "name": "stdout",
     "output_type": "stream",
     "text": [
      "Done\n",
      "Starting exporting image...\n",
      "Setting camera stream...Done\n"
     ]
    },
    {
     "data": {
      "application/json": {
       "ascii": false,
       "bar_format": null,
       "colour": null,
       "elapsed": 0.017640352249145508,
       "initial": 0,
       "n": 0,
       "ncols": null,
       "nrows": 0,
       "postfix": null,
       "prefix": "",
       "rate": null,
       "total": 5100,
       "unit": "it",
       "unit_divisor": 1000,
       "unit_scale": false
      },
      "application/vnd.jupyter.widget-view+json": {
       "model_id": "46010fabcf184211b87a816a07d65642",
       "version_major": 2,
       "version_minor": 0
      },
      "text/plain": [
       "  0%|          | 0/5100 [00:00<?, ?it/s]"
      ]
     },
     "metadata": {},
     "output_type": "display_data"
    },
    {
     "name": "stdout",
     "output_type": "stream",
     "text": [
      "Done\n"
     ]
    }
   ],
   "source": [
    "%matplotlib inline\n",
    "date = '0509'\n",
    "make = 15\n",
    "\n",
    "subs = [\n",
    "    ('01', 5400),\n",
    "    ('02', 5000),\n",
    "    ('03', 5100), \n",
    "    ('04', 5100)]\n",
    "\n",
    "configs = MyConfigs()\n",
    "configs.tx_rate = 0x1c113\n",
    "configs.ntx = 3\n",
    "\n",
    "for (sub, length) in subs:\n",
    "\n",
    "    path = {'bag': f\"../sense/{date}/{sub}.bag\",\n",
    "            'localtime': f\"../sense/{date}/{sub}_timestamps.txt\",\n",
    "            'csi': f\"../npsave/{date}/{date}A{sub}-csio.npy\",  \n",
    "            'label': f\"../sense/{date}/{sub}_labels.csv\",\n",
    "            'save': f\"../dataset/0509/{make}\",\n",
    "           }\n",
    "\n",
    "    mkdata = md.MyDataMakerV02(csi_configs=configs, img_size=(40, 24), paths=path, total_frames=length, csi_length=30, assemble_number=1)\n",
    "    mkdata.depth_mask(0.7)\n",
    "    mkdata.save_raw_images(length)"
   ]
  },
  {
   "cell_type": "code",
   "execution_count": null,
   "id": "0d95c5a7-c4b8-4046-9f4d-1eb4bff98334",
   "metadata": {},
   "outputs": [],
   "source": []
  }
 ],
 "metadata": {
  "kernelspec": {
   "display_name": "Python 3 (ipykernel)",
   "language": "python",
   "name": "python3"
  },
  "language_info": {
   "codemirror_mode": {
    "name": "ipython",
    "version": 3
   },
   "file_extension": ".py",
   "mimetype": "text/x-python",
   "name": "python",
   "nbconvert_exporter": "python",
   "pygments_lexer": "ipython3",
   "version": "3.7.11"
  }
 },
 "nbformat": 4,
 "nbformat_minor": 5
}
