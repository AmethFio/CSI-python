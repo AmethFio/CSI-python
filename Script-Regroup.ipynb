{
 "cells": [
  {
   "cell_type": "code",
   "execution_count": 1,
   "id": "d18ff001-be69-47b9-ad11-285bf1bbc87e",
   "metadata": {
    "tags": []
   },
   "outputs": [],
   "source": [
    "import manipulate_image as mi\n",
    "import manipulate_dataset as mp\n",
    "from IPython.display import display, clear_output\n",
    "from pycsi import MyConfigs\n",
    "import matplotlib.pyplot as plt\n",
    "import numpy as np"
   ]
  },
  {
   "cell_type": "code",
   "execution_count": 2,
   "id": "f8e071b1-380e-4139-9bd2-2c2a933fc538",
   "metadata": {
    "tags": []
   },
   "outputs": [
    {
     "name": "stdout",
     "output_type": "stream",
     "text": [
      "Loading...\n",
      "Loaded 01_dyn_asmb1_len30_csi.npy of (2479, 6, 30, 30)\n",
      "Loaded 01_dyn_asmb1_len30_img.npy of (2479, 1, 128, 226)\n",
      "Loaded 01_dyn_asmb1_len30_time.npy of (2479, 1, 1)\n",
      "Loaded 02_dyn_asmb1_len30_csi.npy of (3083, 6, 30, 30)\n",
      "Loaded 02_dyn_asmb1_len30_img.npy of (3083, 1, 128, 226)\n",
      "Loaded 02_dyn_asmb1_len30_time.npy of (3083, 1, 1)\n",
      "Loaded 03_dyn_asmb1_len30_csi.npy of (2456, 6, 30, 30)\n",
      "Loaded 03_dyn_asmb1_len30_img.npy of (2456, 1, 128, 226)\n",
      "Loaded 03_dyn_asmb1_len30_time.npy of (2456, 1, 1)\n",
      "Loaded 04_dyn_asmb1_len30_csi.npy of (2972, 6, 30, 30)\n",
      "Loaded 04_dyn_asmb1_len30_img.npy of (2972, 1, 128, 226)\n",
      "Loaded 04_dyn_asmb1_len30_time.npy of (2972, 1, 1)\n",
      "All loaded!\n",
      "Saving...\n",
      "Saved img of len 10990\n",
      "Saved csi of len 10990\n",
      "Saved time of len 10990\n",
      "All saved!\n"
     ]
    }
   ],
   "source": [
    "names = ('01', '02', '03', '04')\n",
    "reg = mp.Regrouper(\n",
    "    '../dataset/0509/make14/',\n",
    "    '../dataset/0509/make14-finished/',\n",
    "    names,\n",
    "    {'img': (1, 128, 226),\n",
    "     'csi': (6, 30, 30),\n",
    "     'time': (1, 1)\n",
    "     }\n",
    ")\n",
    "reg.load()\n",
    "reg.regroup(img='r_')"
   ]
  },
  {
   "cell_type": "code",
   "execution_count": 3,
   "id": "debdd185-07d1-485f-8360-4d86d000798e",
   "metadata": {
    "tags": []
   },
   "outputs": [
    {
     "name": "stdout",
     "output_type": "stream",
     "text": [
      "Loading...\n",
      "Loaded 01_raw_bbx.npy of (2479, 1, 4)\n",
      "Loaded 01_gen_img.npy of (2479, 1, 128, 128)\n",
      "Loaded 02_raw_bbx.npy of (3083, 1, 4)\n",
      "Loaded 02_gen_img.npy of (3083, 1, 128, 128)\n",
      "Loaded 03_raw_bbx.npy of (2456, 1, 4)\n",
      "Loaded 03_gen_img.npy of (2456, 1, 128, 128)\n",
      "Loaded 04_raw_bbx.npy of (2972, 1, 4)\n",
      "Loaded 04_gen_img.npy of (2972, 1, 128, 128)\n",
      "All loaded!\n",
      "Saving...\n",
      "Saved img of len 10990\n",
      "Saved bbx of len 10990\n",
      "All saved!\n"
     ]
    }
   ],
   "source": [
    "names = ('01', '02', '03', '04')\n",
    "reg2 = mp.Regrouper(\n",
    "    '../dataset/0509/make14-resize/',\n",
    "    '../dataset/0509/make14-finished/',\n",
    "    names,\n",
    "    {'img': (1, 128, 128),\n",
    "     'bbx': (1, 4)\n",
    "     }\n",
    ")\n",
    "reg2.load()\n",
    "reg2.regroup(img='c_')"
   ]
  },
  {
   "cell_type": "code",
   "execution_count": null,
   "id": "6f4d9bd9-2ca9-47dd-9685-56b32855a533",
   "metadata": {},
   "outputs": [],
   "source": []
  }
 ],
 "metadata": {
  "kernelspec": {
   "display_name": "Python 3 (ipykernel)",
   "language": "python",
   "name": "python3"
  },
  "language_info": {
   "codemirror_mode": {
    "name": "ipython",
    "version": 3
   },
   "file_extension": ".py",
   "mimetype": "text/x-python",
   "name": "python",
   "nbconvert_exporter": "python",
   "pygments_lexer": "ipython3",
   "version": "3.7.11"
  }
 },
 "nbformat": 4,
 "nbformat_minor": 5
}
