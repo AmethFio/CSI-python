{
 "cells": [
  {
   "cell_type": "code",
   "execution_count": 1,
   "id": "aa570c97",
   "metadata": {},
   "outputs": [],
   "source": [
    "import numpy as np\n",
    "import cv2\n",
    "import os\n",
    "import matplotlib.pyplot as plt\n",
    "import manipulate_image as mi"
   ]
  },
  {
   "cell_type": "code",
   "execution_count": null,
   "id": "45562936",
   "metadata": {},
   "outputs": [
    {
     "name": "stdout",
     "output_type": "stream",
     "text": [
      "01\n",
      "Loading images...\n",
      "Loaded img of (2479, 1, 128, 226) as float64\n",
      "Labeling bounding boxes...Complete!\n",
      "Starting exporting image...\n"
     ]
    },
    {
     "name": "stderr",
     "output_type": "stream",
     "text": [
      " 99%|█████████████████████████████████████████████████████████████████████████████ | 2451/2479 [02:46<00:03,  7.50it/s]"
     ]
    }
   ],
   "source": [
    "%matplotlib inline\n",
    "names = {'01'}\n",
    "    #('01', '02', '03', '04')\n",
    "for name in names:\n",
    "    print(name)\n",
    "    gen = mi.ImageGen(name)\n",
    "    gen.load_images(f\"../dataset/0509/make05/{name}_226_img.npy\")\n",
    "    gen.bounding_box(min_area=0, show=False)\n",
    "    gen.align_to_center(unified_size=True)\n",
    "    print(gen.depth[0])\n",
    "    plt.subplot(1, 2, 1)\n",
    "    plt.imshow(gen.patches[0])\n",
    "    plt.subplot(1, 2, 2)\n",
    "    plt.imshow(gen.gen_imgs[0][0])\n",
    "    plt.show()"
   ]
  },
  {
   "cell_type": "code",
   "execution_count": 4,
   "id": "abc7d391",
   "metadata": {},
   "outputs": [
    {
     "name": "stdout",
     "output_type": "stream",
     "text": [
      "[[0. 0. 0. ... 0. 0. 0.]\n",
      " [0. 0. 0. ... 0. 0. 0.]\n",
      " [0. 0. 0. ... 0. 0. 0.]\n",
      " ...\n",
      " [0. 0. 0. ... 0. 0. 0.]\n",
      " [0. 0. 0. ... 0. 0. 0.]\n",
      " [0. 0. 0. ... 0. 0. 0.]]\n"
     ]
    }
   ],
   "source": [
    "print(gen.patches[0])"
   ]
  },
  {
   "cell_type": "code",
   "execution_count": 5,
   "id": "ca7cec5c",
   "metadata": {},
   "outputs": [
    {
     "name": "stdout",
     "output_type": "stream",
     "text": [
      "[[False False False ... False False False]\n",
      " [False False False ... False False False]\n",
      " [False False False ... False False False]\n",
      " ...\n",
      " [False False False ... False False False]\n",
      " [False False False ... False False False]\n",
      " [False False False ... False False False]]\n"
     ]
    }
   ],
   "source": [
    "print(gen.patches[0] != 0)"
   ]
  },
  {
   "cell_type": "code",
   "execution_count": null,
   "id": "d5787bbd",
   "metadata": {},
   "outputs": [],
   "source": []
  }
 ],
 "metadata": {
  "kernelspec": {
   "display_name": "pycsi_cao",
   "language": "python",
   "name": "pycsi_cao"
  },
  "language_info": {
   "codemirror_mode": {
    "name": "ipython",
    "version": 3
   },
   "file_extension": ".py",
   "mimetype": "text/x-python",
   "name": "python",
   "nbconvert_exporter": "python",
   "pygments_lexer": "ipython3",
   "version": "3.9.10"
  }
 },
 "nbformat": 4,
 "nbformat_minor": 5
}
